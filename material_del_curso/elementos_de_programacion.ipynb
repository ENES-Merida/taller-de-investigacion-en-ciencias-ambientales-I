{
 "cells": [
  {
   "cell_type": "markdown",
   "metadata": {},
   "source": [
    "<div style=\"text-align: center;\">\n",
    "    <img src=\"../images/banner.png\" alt=\"Banner curso\" style=\"width:80%\">\n",
    "</div>"
   ]
  },
  {
   "cell_type": "markdown",
   "metadata": {},
   "source": [
    "<div style=\"display: flex; justify-content: center;\">\n",
    "    <h1>Elementos de Programación</h1>\n",
    "</div>\n",
    "\n",
    "## Temario\n",
    "\n",
    "1. Conceptos Fundamentales de los lenguajes de programación  \n",
    "\n",
    "    + Breve introducción a los lenguajes de programación.\n",
    "    + Tipos de datos: enteros, decimales, lógicas y cadenas.\n",
    "    + Declaración, asignación e inicialización.\n",
    "    + Convenciones y palabras reservadas.\n",
    "    +Tipado: estático vs dinámico\n",
    "\n",
    "2. Operadores\n",
    "\n",
    "    + Operadores aritméticos y orden de precedencia.\n",
    "    + Operadores de Asignación.\n",
    "    + Operadores de incremento y decremento.\n",
    "    + Operadores de relación e igualdad.\n",
    "    + Operadores lógicos.\n",
    "\n",
    "3. Estructuras de control\n",
    "\n",
    "    + Estructura secuencial.\n",
    "    + Estructura selectiva.\n",
    "    + Estructura iterativa.\n",
    "\n",
    "4. Funciones\n",
    "\n",
    "    + Creación y llamada de funciones\n",
    "    + Parámetros y argumentos.\n",
    "    + Paso de argumentos por valor y referencia.\n",
    "    + Recuperación de valores.\n",
    "    \n",
    "5. Estructura de datos\n",
    "\n",
    "    + Tipos de estructura de datos.\n",
    "    + Arreglos en python e introducción a Numpy: declaración y manipulación."
   ]
  },
  {
   "cell_type": "markdown",
   "metadata": {},
   "source": [
    "## 1. Conceptos Fundamentales de los lenguajes de programación\n",
    "\n",
    "### Breve introducción a los lenguajes de programación.\n",
    "\n",
    "Un lenguaje de programación es un sistema formal de comunicación diseñado para expresar instrucciones que pueden ser entendidas y ejecutadas por una computadora. Estos lenguajes permiten a los programadores escribir programas, que son conjuntos de instrucciones que dictan cómo una máquina debe comportarse o realizar tareas específicas.\n"
   ]
  },
  {
   "cell_type": "markdown",
   "metadata": {},
   "source": [
    "__Características Clave de un Lenguaje de Programación:__\n",
    "\n",
    "- Sintaxis:\n",
    "\n",
    "La sintaxis de un lenguaje de programación se refiere a las reglas y estructuras que se utilizan para escribir el código, siendo equivalente a las reglas gramaticales y de redacción que rigen a cada idioma. \n",
    "\n",
    "Por ejemplo, la sintaxis para definir una función en Python es diferente a la de Java:\n",
    "```python\n",
    "    # Sintaxis Python\n",
    "    def suma(a, b):\n",
    "        return a + b\n",
    "```\n",
    "```java\n",
    "    // Sintaxis Java\n",
    "    public int suma(int a, int b) {\n",
    "        return a + b;\n",
    "    }\n",
    "```\n",
    "- Semántica:\n",
    "\n",
    "La semántica en programación se refiere al significado de nuestras instrucciones en un lenguaje de programación. Es lo que determina cómo se deben interpretar y ejecutar nuestras acciones en el mundo digital.\n"
   ]
  },
  {
   "cell_type": "code",
   "execution_count": 1,
   "metadata": {},
   "outputs": [
    {
     "name": "stdout",
     "output_type": "stream",
     "text": [
      "8\n"
     ]
    }
   ],
   "source": [
    "numero_1 = 5 \n",
    "numero_2 = 3 \n",
    "resultado = numero_1 + numero_2 \n",
    "print(resultado)"
   ]
  },
  {
   "cell_type": "code",
   "execution_count": 2,
   "metadata": {},
   "outputs": [
    {
     "ename": "TypeError",
     "evalue": "can only concatenate str (not \"int\") to str",
     "output_type": "error",
     "traceback": [
      "\u001b[0;31m---------------------------------------------------------------------------\u001b[0m",
      "\u001b[0;31mTypeError\u001b[0m                                 Traceback (most recent call last)",
      "Cell \u001b[0;32mIn[2], line 3\u001b[0m\n\u001b[1;32m      1\u001b[0m cadena_1 \u001b[38;5;241m=\u001b[39m \u001b[38;5;124m\"\u001b[39m\u001b[38;5;124mChicos de ambientales\u001b[39m\u001b[38;5;124m\"\u001b[39m\n\u001b[1;32m      2\u001b[0m numero_1 \u001b[38;5;241m=\u001b[39m \u001b[38;5;241m12\u001b[39m\n\u001b[0;32m----> 3\u001b[0m resultado \u001b[38;5;241m=\u001b[39m cadena_1 \u001b[38;5;241m+\u001b[39m numero_1\n\u001b[1;32m      4\u001b[0m \u001b[38;5;28mprint\u001b[39m(resultado)\n",
      "\u001b[0;31mTypeError\u001b[0m: can only concatenate str (not \"int\") to str"
     ]
    }
   ],
   "source": [
    "cadena_1 = \"Chicos de ambientales\"\n",
    "numero_1 = 12\n",
    "resultado = cadena_1 + numero_1\n",
    "print(resultado)"
   ]
  },
  {
   "cell_type": "code",
   "execution_count": 6,
   "metadata": {},
   "outputs": [
    {
     "name": "stdout",
     "output_type": "stream",
     "text": [
      "Chicos de ambientalesvan a ser hackers de python\n"
     ]
    }
   ],
   "source": [
    "cadena_1 = \"Chicos de ambientales\"\n",
    "cadena_2 = \"van a ser hackers de python\"\n",
    "resultado = cadena_1 + cadena_2\n",
    "print(resultado)"
   ]
  },
  {
   "cell_type": "code",
   "execution_count": 4,
   "metadata": {},
   "outputs": [
    {
     "name": "stdout",
     "output_type": "stream",
     "text": [
      "Chicos de ambientales van a ser hackers de python\n"
     ]
    }
   ],
   "source": [
    "resultado = cadena_1 + \" \" + cadena_2\n",
    "print(resultado)"
   ]
  },
  {
   "cell_type": "markdown",
   "metadata": {},
   "source": [
    "- Abstracción:\n",
    "\n",
    "Los lenguajes de programación proporcionan varios niveles de abstracción para facilitar la programación. Lenguajes de bajo nivel como el ensamblador están más cerca del lenguaje máquina, mientras que lenguajes de alto nivel como Python o Java abstraen detalles complejos del hardware."
   ]
  },
  {
   "cell_type": "markdown",
   "metadata": {},
   "source": [
    "__Paradigmas de Programación o estilos de programación:__\n",
    "\n",
    "- Programación imperativa: Especifica una secuencia de operaciones para realizar una tarea.\n",
    "\n",
    "- Programación declarativa: Describe qué se debe hacer, no cómo hacerlo.\n",
    "\n",
    "- Programación orientada a objetos: Organiza el código en objetos que tienen propiedades y comportamientos.\n",
    "\n",
    "- Programación funcional: Trata la computación como la evaluación de funciones matemáticas.\n"
   ]
  },
  {
   "cell_type": "markdown",
   "metadata": {},
   "source": [
    "__Tipos de Lenguajes de Programación__\n",
    "\n",
    "- Lenguajes de bajo nivel:\n",
    "\n",
    "    Un lenguaje de programación de bajo nivel proporciona poca o ninguna abstracción de la arquitectura del sistema del ordenador, es decir, se escribe código que es estructuralmente parecido a las instrucciones del procesador. Mayormente, con este término se refiere al código máquina y/o al lenguaje ensamblador.\n",
    "\n",
    "- Lenguajes de alto nivel:\n",
    "\n",
    "    Un lenguaje de programación de alto nivel proporciona una gran abstracción entre el lenguaje de la máquina y el lenguaje humano, siendo mucho más fácil de leer, escribir y/o automatizar, ya que oculta detalles del sistema del ordenador para ejecutarlos tras el telón, como por ejemplo, la gestión de la memoria.\n"
   ]
  },
  {
   "cell_type": "markdown",
   "metadata": {},
   "source": [
    "__El proceso de programación__\n",
    "\n",
    "> La programación es un proceso de resolución de problemas. Para resolver estos problemas se requieren técnicas diferentes que comprenden desde el análisis del problema, especificación de requisitos o requerimientos y las etapas de diseño denominadas algoritmos.\n",
    "\n",
    "La elección del lenguaje de programación puede depender de muchos factores, incluyendo el dominio de aplicación, las preferencias personales, el rendimiento requerido y la comunidad de soporte disponible."
   ]
  },
  {
   "cell_type": "markdown",
   "metadata": {},
   "source": [
    "__Interpretación de los lenguajes de Programación__\n",
    "\n",
    "El mundo como lo conocemos depende de los lenguajes de programación debido a que el software que utilizamos en nuestra vida diaria ha sido escrito en alguno de ellos. Pero los programas escritos para que puedan ser ejecutados antes necesitan ser traducidos al lenguaje de la computadora para que esta entienda que tiene que hacer.\n",
    "\n",
    "El proceso de traducción se le conoce como __compilación__ y al software usado para traducir se le llama _compilador_ o _interprete_, según sea el caso.\n",
    "\n",
    "Un __compilador__ traduce el código de un lenguaje de programación de alto nivel a código máquina antes de que el programa se ejecute. Una función importante del compilador es informar de cualquier error en el programa fuente que detecte durante el proceso de traducción.\n",
    "\n",
    "Un __intérprete__ traduce el código escrito en un lenguaje de programación de alto nivel a código máquina línea por línea a medida que se ejecuta el código. En caso de detectar un error mientras se ejecuta, interrumpe el programa y muestra información acerca del este."
   ]
  },
  {
   "cell_type": "markdown",
   "metadata": {},
   "source": [
    "#### Lenguaje de Programación Python\n",
    "\n",
    "_Python_ es un lenguaje de programación de alto nivel que ha ganado una gran popularidad debido a su versatilidad, facilidad de uso y amplia gama de bibliotecas. Entre las principales ventajas de usar Python se encuentran:\n",
    "\n",
    "1. Sintaxis clara y legible.\n",
    "\n",
    "2. Gran comunidad y soporte.\n",
    "\n",
    "3. Versatilidad y portabilidad.\n",
    "\n",
    "4. Amplia gama de bibliotecas y frameworks.\n",
    "\n",
    "5. Código rápido y eficiente.\n",
    "\n",
    "6. Código robusto y escalable.\n",
    "\n",
    "7. Facilidad de aprendizaje.\n",
    "\n",
    "8. Amplia gama de aplicaciones:\n",
    "\n",
    "    - Análisis de datos y ciencia de datos\n",
    "    - Aprendizaje automático e inteligencia artificial\n",
    "    - Desarrollo web y aplicaciones web\n",
    "    - Desarrollo de escritorio\n",
    "    - Automatización de tareas\n",
    "    - Scripting y administración de sistemas\n",
    "    - Desarrollo de juegos\n",
    "    - Visualización de datos"
   ]
  },
  {
   "cell_type": "markdown",
   "metadata": {},
   "source": [
    "### Tipos de datos.\n",
    "\n",
    "Los tipos de datos son la base fundamental para organizar y manipular la información en los lenguajes de programación. Cierto tipo de dato define el tipo de valor que se puede manejar y las operaciones que se pueden realizar con ese tipo de dato.\n",
    "\n",
    "#### Unidad de Información\n",
    "Una unidad de información es una medida básica utilizada para medir la cantidad de datos o información. \n",
    "Estas unidades son fundamentales en la informática y las telecomunicaciones, donde se utilizan para:\n",
    "\n",
    "- describir el tamaño de archivos \n",
    "- la capacidad de almacenamiento\n",
    "- la velocidad de transmisión de datos. \n",
    "\n",
    "Las unidades de información se basan en el concepto de bits, bytes y palabra, que son las unidades más fundamentales en la representación digital de la información.\n",
    "\n",
    "Principales unidades de información:\n",
    "- Bit: Es la unidad más básica de información. Un bit puede representar dos estados posibles, típicamente 0 o 1. Se utiliza para representar la unidad mínima de información en un sistema binario.\n",
    "- Byte: Un byte es un grupo de 8 bits. Es la unidad básica utilizada para medir el tamaño de archivos y la capacidad de almacenamiento.\n",
    "- Palabra: Son grupos de bits que tienen un tamaño fijo. Es una unidad básica de datos que un procesador de computadora puede manejar y procesar como un único conjunto en una operación. La longitud de una palabra depende de la arquitectura del sistema, y suele estar relacionada con la cantidad de bits que la CPU puede procesar simultáneamente en una operación.\n",
    "\n",
    "Por ejemplo:\n",
    "- En una arquitectura de 32 bits, la longitud de una palabra es de 32 bits (4 bytes).\n",
    "- En una arquitectura de 64 bits, la longitud de una palabra es de 64 bits (8 bytes).\n"
   ]
  },
  {
   "cell_type": "markdown",
   "metadata": {},
   "source": [
    "En general, los tipos de datos se pueden clasificar en dos categorías principales:\n",
    "\n",
    "1. Tipos de datos primitivos:\n",
    "\n",
    "Los tipos de datos primitivos son los tipos de datos más básicos que ofrece un lenguaje de programación. Son indivisibles y solo pueden almacenar un único valor. Los tipos de datos primitivos más comunes incluyen:\n",
    "| Categoría | Tipo de Dato | Descripción | Ejemplos | Tamaño en bytes |\n",
    "| :---: | :---: | :--- | :---: | :---: |\n",
    "| Tipo Numérico | Entero | Números enteros positivos, negativos o cero. Comprende un rango de valores aproximadamente de -9,223,372,036,854,775,808 a 9,223,372,036,854,775,807. | ```1, -10, 0, 200``` | 4 u 8 |\n",
    "| Tipo Numérico | Float | Números de punto flotante. Comprende un rango de valores aproximadamente de ±1.79769313486231570E+308 (precisión de 15-16 dígitos decimales). | ```3.1416, -5.2, 10.0, 0.33``` | 4 u 8 |\n",
    "| Tipo Numérico | Complejo | Números complejos. | ```4+3i, 8i``` | 12 o 16 |\n",
    "| Tipo Texto | Carácter | Representan un único símbolo o letra. | ```'a', 'B', '$'``` | 1 a 4 |\n",
    "| Tipo Texto | Cadena de Texto | Secuencias de caracteres. | ```\"Hola mundo\", \"Python es genial\", \"42\"``` | Suma total de caracteres |\n",
    "| Tipo booleano | Booleano | Valores de verdad o falso. | ```True, False``` | 1 |\n",
    "\n",
    "Aquí pueden informarse más acerca de los [números de punto flotante.](http://puntoflotante.org/formats/fp/)\n",
    "\n",
    "2. Tipos de datos estructurados (los veremos más adelante)."
   ]
  },
  {
   "cell_type": "code",
   "execution_count": 4,
   "metadata": {},
   "outputs": [
    {
     "name": "stdout",
     "output_type": "stream",
     "text": [
      "<class 'int'>\n"
     ]
    }
   ],
   "source": [
    "dato_entero = 37\n",
    "tipo_de_dato = type(dato_entero)\n",
    "print(type(dato_entero))"
   ]
  },
  {
   "cell_type": "code",
   "execution_count": 5,
   "metadata": {},
   "outputs": [
    {
     "name": "stdout",
     "output_type": "stream",
     "text": [
      "<class 'float'>\n"
     ]
    }
   ],
   "source": [
    "dato_decimal = 37.24\n",
    "tipo_de_dato = type(dato_decimal)\n",
    "print(type(dato_decimal))"
   ]
  },
  {
   "cell_type": "code",
   "execution_count": 6,
   "metadata": {},
   "outputs": [
    {
     "name": "stdout",
     "output_type": "stream",
     "text": [
      "<class 'str'>\n"
     ]
    }
   ],
   "source": [
    "dato_caracter = '%'\n",
    "tipo_de_dato = type(dato_caracter)\n",
    "print(type(dato_caracter))"
   ]
  },
  {
   "cell_type": "code",
   "execution_count": 7,
   "metadata": {},
   "outputs": [
    {
     "name": "stdout",
     "output_type": "stream",
     "text": [
      "<class 'str'>\n"
     ]
    }
   ],
   "source": [
    "dato_cadena_de_caracteres = \"Soy una cadena de caracteres\"\n",
    "tipo_de_dato = type(dato_cadena_de_caracteres)\n",
    "print(type(dato_cadena_de_caracteres))"
   ]
  },
  {
   "cell_type": "code",
   "execution_count": 8,
   "metadata": {},
   "outputs": [
    {
     "name": "stdout",
     "output_type": "stream",
     "text": [
      "<class 'bool'>\n"
     ]
    }
   ],
   "source": [
    "dato_booleano = True\n",
    "tipo_de_dato = type(dato_booleano)\n",
    "print(type(dato_booleano))"
   ]
  },
  {
   "cell_type": "markdown",
   "metadata": {},
   "source": [
    "### Variables: declaración, asignación e inicialización\n",
    "\n",
    "Una *variable* es como un contenedor de datos que tiene un _nombre_ y un _valor_. El nombre de la variable se utiliza para referirse al valor almacenado en el contenedor. El valor de la variable puede cambiar durante la ejecución del programa.\n",
    "\n",
    "Las variables se utilizan para almacenar y manipular datos de diferentes tipos, ya sean primitivos o estructurados. Son esenciales para escribir código organizado y reutilizable, ya que permiten evitar la repetición de código y hacen que el programa sea más fácil de leer y entender.\n",
    "\n",
    "Características principales de las variables:\n",
    "\n",
    "- _Nombre_: Un identificador único que se utiliza para referirse a la variable.\n",
    "\n",
    "- _Tipo de dato_: El tipo de dato que la variable puede almacenar.\n",
    "\n",
    "- _Valor_: El dato actual almacenado en la variable.\n",
    "\n",
    "- _Alcance_: La parte del programa donde la variable es visible y accesible.\n"
   ]
  },
  {
   "cell_type": "markdown",
   "metadata": {},
   "source": [
    "Declaración de una variable:\n",
    "\n",
    "La declaración de una variable consiste en definir un nombre para la variable y especificar el tipo de dato que puede almacenar. Esto se hace utilizando una instrucción de declaración de variables, la cual varía según el lenguaje de programación que se esté utilizando."
   ]
  },
  {
   "cell_type": "code",
   "execution_count": 7,
   "metadata": {},
   "outputs": [],
   "source": [
    "# Declaración de una variable entera\n",
    "mi_variable_entera: int\n",
    "\n",
    "# Declaración de una variable decimal\n",
    "mi_variable_decimal: float\n",
    "\n",
    "# Declaración de una variable de una cadena de caracteres\n",
    "mi_variable_cadena_char: str\n",
    "\n",
    "# Declaración de una variable booleana\n",
    "mi_variable_booleana: bool"
   ]
  },
  {
   "cell_type": "markdown",
   "metadata": {},
   "source": [
    "Asignación de una variable:\n",
    "\n",
    "La asignación de una variable consiste en atribuir un valor a la variable previamente declarada. Esto se hace utilizando el operador de asignación ```=``` seguido del valor que se quiere asignar, es decir, ```variable = valor```, que es equivalente a hacer lo siguiente: ```variable <- valor```."
   ]
  },
  {
   "cell_type": "code",
   "execution_count": 8,
   "metadata": {},
   "outputs": [],
   "source": [
    "# Asignación de un valor a la variable entera\n",
    "mi_variable_entera = 10\n",
    "\n",
    "# Asignación de un valor a la variable decimal\n",
    "mi_variable_decimal = 3.1416\n",
    "\n",
    "# Asignación de un valor a la variable de cadena de caracteres\n",
    "mi_variable_cadena_char = \"Hola chicos de ambientales\"\n",
    "\n",
    "# Asignación de un valor a la variable booleana\n",
    "mi_variable_booleana = True"
   ]
  },
  {
   "cell_type": "markdown",
   "metadata": {},
   "source": [
    "Inicialización de una variable:\n",
    "\n",
    "La inicialización de una variable es el proceso de asignar un valor a la variable al mismo tiempo que se declara. Esto se puede hacer en la misma instrucción de declaración de la variable."
   ]
  },
  {
   "cell_type": "markdown",
   "metadata": {},
   "source": [
    "Alcance de una variable:"
   ]
  },
  {
   "cell_type": "code",
   "execution_count": 9,
   "metadata": {},
   "outputs": [
    {
     "name": "stdout",
     "output_type": "stream",
     "text": [
      "Variable 1: tengo alcance global.\n"
     ]
    }
   ],
   "source": [
    "variable_1 = \"Variable 1: tengo alcance global.\"\n",
    "\n",
    "print(variable_1)"
   ]
  },
  {
   "cell_type": "code",
   "execution_count": 16,
   "metadata": {},
   "outputs": [
    {
     "name": "stdout",
     "output_type": "stream",
     "text": [
      "Estamos dentro de la función fun_1:\n",
      "\tVariable 1: tengo alcance global.\n"
     ]
    }
   ],
   "source": [
    "def fun_1():\n",
    "    print(\"Estamos dentro de la función fun_1:\")\n",
    "    print(\"\\t\" + variable_1)\n",
    "\n",
    "fun_1()"
   ]
  },
  {
   "cell_type": "code",
   "execution_count": 10,
   "metadata": {},
   "outputs": [],
   "source": [
    "def fun_2():\n",
    "    print(\"Estamos dentro de la función fun_2:\")\n",
    "    variable_2 = \"Variable 2: tengo alcance solo dentro de la función fun_2:\"\n",
    "    print(\"\\t\" + variable_2)"
   ]
  },
  {
   "cell_type": "code",
   "execution_count": 11,
   "metadata": {},
   "outputs": [
    {
     "name": "stdout",
     "output_type": "stream",
     "text": [
      "variable_2 no está al alcance, posiblemente no definida.\n",
      "Estamos dentro de la función fun_2:\n",
      "\tVariable 2: tengo alcance solo dentro de la función fun_2:\n"
     ]
    }
   ],
   "source": [
    "try:\n",
    "    print(variable_2)\n",
    "except:\n",
    "    print(\"variable_2 no está al alcance, posiblemente no definida.\")\n",
    "\n",
    "fun_2()"
   ]
  },
  {
   "cell_type": "code",
   "execution_count": 13,
   "metadata": {},
   "outputs": [],
   "source": [
    "def fun_3():\n",
    "    print(\"Estamos dentro de la función fun_3:\")\n",
    "\n",
    "    variable_3 = \"Variable 3: tengo alcance solo dentro de la función fun_3\"\n",
    "\n",
    "    print(\"\\t\" + variable_3)\n",
    "    print(\"\\t\" + variable_1 + \" También dentro de la función fun_3.\")\n",
    "\n",
    "    try:\n",
    "        print(variable_4)\n",
    "    except:\n",
    "        print(\"variable_4 no está al alcance, posiblemente no definida.\")\n",
    "\n",
    "    def fun_4():\n",
    "        print(\"\\tEstamos dentro de la función fun_4:\")\n",
    "        \n",
    "        variable_4 = \"Variable 4: tengo alcance solo dentro de la función fun_4.\"\n",
    "        \n",
    "        print(\"\\t\\t\" + variable_4)\n",
    "        print(\"\\t\\t\" + variable_3 + \" y también dentro de la función fun_4.\")\n",
    "        print(\"\\t\\t\" + variable_1 + \" y también dentro de la función fun_4.\")\n",
    "        \n",
    "    \n",
    "    fun_4()"
   ]
  },
  {
   "cell_type": "code",
   "execution_count": 14,
   "metadata": {},
   "outputs": [
    {
     "name": "stdout",
     "output_type": "stream",
     "text": [
      "Estamos dentro de la función fun_3:\n",
      "\tVariable 3: tengo alcance solo dentro de la función fun_3\n",
      "\tVariable 1: tengo alcance global. También dentro de la función fun_3.\n",
      "variable_4 no está al alcance, posiblemente no definida.\n",
      "\tEstamos dentro de la función fun_4:\n",
      "\t\tVariable 4: tengo alcance solo dentro de la función fun_4.\n",
      "\t\tVariable 3: tengo alcance solo dentro de la función fun_3 y también dentro de la función fun_4.\n",
      "\t\tVariable 1: tengo alcance global. y también dentro de la función fun_4.\n"
     ]
    }
   ],
   "source": [
    "fun_3()"
   ]
  },
  {
   "cell_type": "markdown",
   "metadata": {},
   "source": [
    "#### Convención para nombrar variables, funciones y archivos en python\n",
    "\n",
    "El **snake case**, también conocido como **lowercase_with_underscores**, es una convención de nomenclatura utilizada en programación para nombrar variables, funciones y archivos. Consiste en escribir las palabras en minúsculas separadas por guiones bajos **(_)**.\n",
    "\n",
    "Características principales del snake case:\n",
    "\n",
    "- *Mejora la legibilidad:* Al separar las palabras con guiones bajos, los nombres de variables largos son más fáciles de leer y comprender.\n",
    "\n",
    "- *Consistencia:* Usar snake case de manera consistente en todo tu código mejora la mantenibilidad del código y facilita que otros programadores lo entiendan.\n",
    "\n",
    "- *Convención común:* Snake case es una convención ampliamente utilizada en Python y muchos otros lenguajes de programación.\n",
    "\n",
    "Ejemplos de snake case, para nombres de variables:\n",
    "\n",
    "```python\n",
    "    resultado_aproximado\n",
    "    ventas_totales\n",
    "    calcular_promedio\n",
    "```\n",
    "y para nombre de archivos:\n",
    "```\n",
    "mi_primer_programa_en_python.py\n",
    "```\n",
    "\n",
    "Las constantes en python (también en otros lenguajes de programación) se escriben en mayúsculas usando la convención **snake_case**. Por ejemplo:\n",
    "```python\n",
    "    PI = 3.1416\n",
    "    GRAVEDAD = 9.81\n",
    "```"
   ]
  },
  {
   "cell_type": "markdown",
   "metadata": {},
   "source": [
    "## 2. Operadores\n",
    "\n",
    "### Operadores aritméticos y orden de precedencia\n",
    "\n",
    "Los operadores aritméticos se utilizan para realizar operaciones matemáticas básicas con números. En lenguajes de programación, el orden en que se evalúan estas operaciones está definido por la precedencia de los operadores. La precedencia dictamina qué operaciones se realizan primero y en qué orden.\n",
    "\n",
    "<div style=\"display: flex; justify-content: center;\">\n",
    "\n",
    "| Precendencia | Operador | Descripción | Asociatividad |\n",
    "| :---: | :---: | :---: | :---: |\n",
    "| 1 | **(expresion)** | Expresión entre paréntesis | Izquierda a derecha |\n",
    "| 2 | **\\*\\*** | Exponente | Izquierda a derecha |\n",
    "| 3 | **\\*, /, //, %** | Multiplicación, división, cociente y módulo | Izquierda a derecha |\n",
    "| 4 | **+, -** | Suma y resta | Izquierda a derecha |\n",
    "\n",
    "</div>"
   ]
  },
  {
   "cell_type": "code",
   "execution_count": 15,
   "metadata": {},
   "outputs": [
    {
     "data": {
      "text/plain": [
       "48.75"
      ]
     },
     "execution_count": 15,
     "metadata": {},
     "output_type": "execute_result"
    }
   ],
   "source": [
    "4 + 6 * 3**2 - 34 / 8 - 12 % 7"
   ]
  },
  {
   "cell_type": "markdown",
   "metadata": {},
   "source": [
    "##### Exponente"
   ]
  },
  {
   "cell_type": "code",
   "execution_count": 12,
   "metadata": {},
   "outputs": [
    {
     "name": "stdout",
     "output_type": "stream",
     "text": [
      "56^2 = 3136\n"
     ]
    }
   ],
   "source": [
    "# Exponente con operador **\n",
    "numero = 56\n",
    "exponente = 2\n",
    "numero_elevado_a_exponente = numero**exponente          # 56 ** 2\n",
    "print(f\"{numero}^2 = {numero_elevado_a_exponente}\")"
   ]
  },
  {
   "cell_type": "code",
   "execution_count": 13,
   "metadata": {},
   "outputs": [
    {
     "name": "stdout",
     "output_type": "stream",
     "text": [
      "56^2 = 3136.0\n"
     ]
    }
   ],
   "source": [
    "# Exponente con la función pow\n",
    "import math\n",
    "\n",
    "numero = 56\n",
    "exponente = 2\n",
    "numero_elevado_al_cuadrado = math.pow(numero, exponente)    # math.pow(56, 2)\n",
    "print(f\"{numero}^2 = {numero_elevado_al_cuadrado}\")"
   ]
  },
  {
   "cell_type": "markdown",
   "metadata": {},
   "source": [
    "##### Operador division, Cociente y Módulo\n",
    "\n",
    "Recordemos la expresión de la división exacta:\n",
    "\n",
    "$dividendo = cociente \\times divisor$"
   ]
  },
  {
   "cell_type": "code",
   "execution_count": 14,
   "metadata": {},
   "outputs": [
    {
     "name": "stdout",
     "output_type": "stream",
     "text": [
      "57 / 2 = 28.5\n"
     ]
    }
   ],
   "source": [
    "# Operador división /: cociente real, considera el residuo\n",
    "\n",
    "dividendo = 57\n",
    "divisor = 2\n",
    "cociente = dividendo / divisor\n",
    "print(f\"{dividendo} / {divisor} = {cociente}\")"
   ]
  },
  {
   "cell_type": "code",
   "execution_count": 15,
   "metadata": {},
   "outputs": [
    {
     "name": "stdout",
     "output_type": "stream",
     "text": [
      "La fórmula de la división:\n",
      "57 = 28.5 x 2\n"
     ]
    }
   ],
   "source": [
    "print(f\"La fórmula de la división:\")\n",
    "print(f\"{dividendo} = {cociente} x {divisor}\")"
   ]
  },
  {
   "cell_type": "markdown",
   "metadata": {},
   "source": [
    "##### División Entera\n",
    "\n",
    "Recordemos la expresión de la división entera:\n",
    "\n",
    "$dividendo = cociente \\times divisor + residuo$"
   ]
  },
  {
   "cell_type": "code",
   "execution_count": 16,
   "metadata": {},
   "outputs": [
    {
     "name": "stdout",
     "output_type": "stream",
     "text": [
      "57 // 2 = 28\n"
     ]
    }
   ],
   "source": [
    "# Operador división entera //: obtenemos el cociente entero, no considera el residuo\n",
    "\n",
    "dividendo = 57\n",
    "divisor = 2\n",
    "cociente_entero = dividendo // divisor\n",
    "print(f\"{dividendo} // {divisor} = {cociente_entero}\")"
   ]
  },
  {
   "cell_type": "code",
   "execution_count": 17,
   "metadata": {},
   "outputs": [
    {
     "name": "stdout",
     "output_type": "stream",
     "text": [
      "57 % 2 = 1\n"
     ]
    }
   ],
   "source": [
    "# Operador módulo %: obtiene residuo\n",
    "\n",
    "dividendo = 57\n",
    "divisor = 2\n",
    "residuo = dividendo % divisor\n",
    "print(f\"{dividendo} % {divisor} = {residuo}\")"
   ]
  },
  {
   "cell_type": "code",
   "execution_count": 18,
   "metadata": {},
   "outputs": [
    {
     "name": "stdout",
     "output_type": "stream",
     "text": [
      "La expresión de la divisón entera:\n",
      "57 = 28.5 x 2 + 1\n"
     ]
    }
   ],
   "source": [
    "print(f\"La expresión de la divisón entera:\")\n",
    "print(f\"{dividendo} = {cociente} x {divisor} + {residuo}\")"
   ]
  },
  {
   "cell_type": "markdown",
   "metadata": {},
   "source": [
    "### Operadores de Asignación\n",
    "\n",
    "Los operadores de asignación se utilizan para asignar valores a variables. El operador de asignación más común es ```=```.\n",
    "\n",
    "Otros operadores de asignación:\n",
    "\n",
    "<div style=\"display: flex; justify-content: center;\">\n",
    "\n",
    "| Operador | Descripción |\n",
    "| :---: | :---: |\n",
    "| += | Suma y asigna |\n",
    "| -= | Resta y asigna |\n",
    "| *= | Multiplica y asigna |\n",
    "| /= | Divide y asigna|\n",
    "| %= | Módulo y asigna |\n",
    "</div>"
   ]
  },
  {
   "cell_type": "code",
   "execution_count": 19,
   "metadata": {},
   "outputs": [
    {
     "name": "stdout",
     "output_type": "stream",
     "text": [
      "El valor de numero = 50\n"
     ]
    }
   ],
   "source": [
    "numero = 45\n",
    "numero += 5\n",
    "print(f\"El valor de numero = {numero}\")"
   ]
  },
  {
   "cell_type": "code",
   "execution_count": 20,
   "metadata": {},
   "outputs": [
    {
     "name": "stdout",
     "output_type": "stream",
     "text": [
      "El valor de numero = 40\n"
     ]
    }
   ],
   "source": [
    "numero = 45\n",
    "numero -= 5\n",
    "print(f\"El valor de numero = {numero}\")"
   ]
  },
  {
   "cell_type": "code",
   "execution_count": 21,
   "metadata": {},
   "outputs": [
    {
     "name": "stdout",
     "output_type": "stream",
     "text": [
      "El valor de numero = 225\n"
     ]
    }
   ],
   "source": [
    "numero = 45\n",
    "numero *= 5\n",
    "print(f\"El valor de numero = {numero}\")"
   ]
  },
  {
   "cell_type": "code",
   "execution_count": 22,
   "metadata": {},
   "outputs": [
    {
     "name": "stdout",
     "output_type": "stream",
     "text": [
      "El valor de numero = 9.0\n"
     ]
    }
   ],
   "source": [
    "numero = 45\n",
    "numero /= 5\n",
    "print(f\"El valor de numero = {numero}\")"
   ]
  },
  {
   "cell_type": "code",
   "execution_count": 23,
   "metadata": {},
   "outputs": [
    {
     "name": "stdout",
     "output_type": "stream",
     "text": [
      "El valor de numero = 0\n"
     ]
    }
   ],
   "source": [
    "numero = 45\n",
    "numero %= 5\n",
    "print(f\"El valor de numero = {numero}\")"
   ]
  },
  {
   "cell_type": "markdown",
   "metadata": {},
   "source": [
    "### Operadores de Relación e Igualdad\n",
    "\n",
    "Los operadores de relación e igualdad se utilizan para comparar valores.\n",
    "\n",
    "Operadores de relación:\n",
    "\n",
    "<div style=\"display: flex; justify-content: center;\">\n",
    "\n",
    "| Operador | Descripción |\n",
    "| :---: | :---: |\n",
    "| < | Menor que |\n",
    "| <= | Menor o igual que |\n",
    "| > | Mayor que |\n",
    "| >= | Mayor o igual que |\n",
    "| == | Igual que |\n",
    "| != | Distinto que |\n",
    "</div>"
   ]
  },
  {
   "cell_type": "code",
   "execution_count": 24,
   "metadata": {},
   "outputs": [
    {
     "data": {
      "text/plain": [
       "True"
      ]
     },
     "execution_count": 24,
     "metadata": {},
     "output_type": "execute_result"
    }
   ],
   "source": [
    "numero_1 = 45\n",
    "numero_2 = 56\n",
    "\n",
    "numero_1 < numero_2"
   ]
  },
  {
   "cell_type": "code",
   "execution_count": 25,
   "metadata": {},
   "outputs": [
    {
     "data": {
      "text/plain": [
       "True"
      ]
     },
     "execution_count": 25,
     "metadata": {},
     "output_type": "execute_result"
    }
   ],
   "source": [
    "numero_1 = 45\n",
    "numero_2 = 56\n",
    "\n",
    "numero_1 <= numero_2"
   ]
  },
  {
   "cell_type": "code",
   "execution_count": 26,
   "metadata": {},
   "outputs": [
    {
     "data": {
      "text/plain": [
       "False"
      ]
     },
     "execution_count": 26,
     "metadata": {},
     "output_type": "execute_result"
    }
   ],
   "source": [
    "numero_1 = 45\n",
    "numero_2 = 56\n",
    "\n",
    "numero_1 > numero_2"
   ]
  },
  {
   "cell_type": "code",
   "execution_count": 27,
   "metadata": {},
   "outputs": [
    {
     "data": {
      "text/plain": [
       "False"
      ]
     },
     "execution_count": 27,
     "metadata": {},
     "output_type": "execute_result"
    }
   ],
   "source": [
    "numero_1 = 45\n",
    "numero_2 = 56\n",
    "\n",
    "numero_1 >= numero_2"
   ]
  },
  {
   "cell_type": "code",
   "execution_count": 28,
   "metadata": {},
   "outputs": [
    {
     "data": {
      "text/plain": [
       "False"
      ]
     },
     "execution_count": 28,
     "metadata": {},
     "output_type": "execute_result"
    }
   ],
   "source": [
    "numero_1 = 45\n",
    "numero_2 = 56\n",
    "\n",
    "numero_1 == numero_2"
   ]
  },
  {
   "cell_type": "code",
   "execution_count": 29,
   "metadata": {},
   "outputs": [
    {
     "data": {
      "text/plain": [
       "True"
      ]
     },
     "execution_count": 29,
     "metadata": {},
     "output_type": "execute_result"
    }
   ],
   "source": [
    "numero_1 = 45\n",
    "numero_2 = 56\n",
    "\n",
    "numero_1 != numero_2"
   ]
  },
  {
   "cell_type": "markdown",
   "metadata": {
    "tags": [
     "parameters"
    ]
   },
   "source": [
    "### Operadores Lógicos\n",
    "\n",
    "Los operadores lógicos se utilizan para combinar dos o más expresiones booleanas en una sola expresión booleana.\n",
    "\n",
    "Operadores lógicos:\n",
    "\n",
    "<div style=\"display: flex; justify-content: center;\">\n",
    "\n",
    "| Operador | Operador en Python | Descripción |\n",
    "| :---: | :---: | :---: |\n",
    "| and | && | Y (ambas expresiones deben ser verdaderas) |\n",
    "| or | \\|\\| | O (al menos una expresión debe ser verdadera) |\n",
    "| not | ~ | No (invierte el valor de la expresión) |\n",
    "</div>"
   ]
  },
  {
   "cell_type": "code",
   "execution_count": 30,
   "metadata": {},
   "outputs": [
    {
     "data": {
      "text/plain": [
       "False"
      ]
     },
     "execution_count": 30,
     "metadata": {},
     "output_type": "execute_result"
    }
   ],
   "source": [
    "numero_1 = 45\n",
    "numero_2 = 87\n",
    "\n",
    "numero_1 < numero_2 and numero_2 == 81"
   ]
  },
  {
   "cell_type": "code",
   "execution_count": 31,
   "metadata": {},
   "outputs": [
    {
     "data": {
      "text/plain": [
       "True"
      ]
     },
     "execution_count": 31,
     "metadata": {},
     "output_type": "execute_result"
    }
   ],
   "source": [
    "numero_1 = 45\n",
    "numero_2 = 87\n",
    "\n",
    "numero_1 > numero_2 or numero_2 == 87"
   ]
  },
  {
   "cell_type": "code",
   "execution_count": 32,
   "metadata": {},
   "outputs": [
    {
     "data": {
      "text/plain": [
       "True"
      ]
     },
     "execution_count": 32,
     "metadata": {},
     "output_type": "execute_result"
    }
   ],
   "source": [
    "numero_1 = 45\n",
    "numero_2 = 87\n",
    "\n",
    "not(numero_1 > numero_2)"
   ]
  },
  {
   "cell_type": "markdown",
   "metadata": {},
   "source": [
    "## 3. Estructuras de Control\n",
    "\n",
    "Las estructuras de control son bloques de código que permiten controlar el flujo de ejecución de un programa.\n",
    "\n",
    "Las estructuras de control son esenciales para la programación, ya que permiten:\n",
    "\n",
    "- **Modularizar el código:** Dividir el programa en bloques más pequeños y manejables, mejorando la legibilidad y el mantenimiento del código.\n",
    "- **Tomar decisiones:** Permitir al programa responder a diferentes condiciones y situaciones.\n",
    "- **Repetir tareas:** Automatizar la ejecución de tareas repetitivas, ahorrando tiempo y esfuerzo.\n",
    "- **Crear algoritmos complejos:** Combinando diferentes estructuras de control, se pueden crear algoritmos sofisticados para resolver problemas complejos.\n",
    "\n",
    "### Estructuras secuenciales:\n",
    "\n",
    "Las estructuras secuenciales, también conocidas como instrucciones lineales, ejecutan las instrucciones una tras otra en un orden descendente. Es la forma más básica de controlar el flujo del programa. La sintaxis básica es la siguiente:\n",
    "\n",
    "```algorithm\n",
    "    begin\n",
    "        <Instrucción_1>\n",
    "        <Instrucción_2>\n",
    "        <Instrucción_3>\n",
    "              .\n",
    "              .\n",
    "              .\n",
    "        <Instrucción_n>\n",
    "    end\n",
    "```\n",
    "\n",
    "En en lenguaje de programación FORTRAN se usa la siguiente sintaxis:\n",
    "```fortran\n",
    "    PROGRAM <nombre_del_programa>\n",
    "        <Instrucción_1>\n",
    "        <Instrucción_2>\n",
    "        <Instrucción_3>\n",
    "              .\n",
    "              .\n",
    "              .\n",
    "        <Instrucción_n>\n",
    "    END PROGRAM\n",
    "```\n",
    "Python no usa sentencias especiales para delimitar sus estructuras secuenciales."
   ]
  },
  {
   "cell_type": "code",
   "execution_count": 33,
   "metadata": {},
   "outputs": [
    {
     "name": "stdout",
     "output_type": "stream",
     "text": [
      "El área del círculo de radio = 6.4 es igual a 128.67993600000003\n"
     ]
    }
   ],
   "source": [
    "# Ejemplo en python:\n",
    "\n",
    "PI = 3.1416     #! Constantes en mayúsculas\n",
    "radio = 6.4\n",
    "radio_cuadrado = radio**2\n",
    "area_circulo = PI * radio_cuadrado\n",
    "print(f\"El área del círculo de radio = {radio} es igual a {area_circulo}\")"
   ]
  },
  {
   "cell_type": "markdown",
   "metadata": {},
   "source": [
    "### Estructuras selectivas\n",
    "\n",
    "Las estructuras **selectivas**, también conocidas como **condicionales**, permiten al programa tomar decisiones en función de una o más condiciones. Permiten ejecutar diferentes bloques de código según el resultado de la evaluación de la condición.\n",
    "\n",
    "Las estructuras selectivas más comunes son:\n",
    "\n",
    "- Instrucción **if**: Evalúa una condición y ejecuta un bloque de código si la condición es verdadera. La sintaxis es la siguiente:\n",
    "```algoritmos\n",
    "    if <condición> then\n",
    "        <bloque_de_código>\n",
    "    endIf\n",
    "```\n",
    "\n",
    "La estructura ```if``` en el lenguaje de programación C se escribe como:\n",
    "```c\n",
    "    if (<condición>)\n",
    "    {\n",
    "        <bloque_de_código>\n",
    "    }\n",
    "```\n",
    "La sintaxis en python es:\n",
    "\n",
    "```python\n",
    "    if <condición>:\n",
    "        <bloque_de_código>\n",
    "```"
   ]
  },
  {
   "cell_type": "code",
   "execution_count": 34,
   "metadata": {},
   "outputs": [
    {
     "name": "stdout",
     "output_type": "stream",
     "text": [
      "Hasta luego.\n",
      "Se ejecutan otras instrucciones...\n"
     ]
    }
   ],
   "source": [
    "comando = \"salir\"\n",
    "CODIGO_DE_SALIDA = \"salir\"\n",
    "\n",
    "if comando == CODIGO_DE_SALIDA:\n",
    "    print(\"Hasta luego.\")\n",
    "\n",
    "print(\"Se ejecutan otras instrucciones...\")"
   ]
  },
  {
   "cell_type": "markdown",
   "metadata": {},
   "source": [
    "- Instrucción **if - else**: Evalúa una condición y ejecuta un bloque de código si la condición es verdadera, y otro bloque de código si la condición es falsa. Su sintaxis general es la siguiente:\n",
    "\n",
    "```algorithm\n",
    "    if <condición> then\n",
    "        <bloque de código 1>\n",
    "    else\n",
    "        <bloque de código 2>\n",
    "    endIf\n",
    "```\n",
    "FORTRAN utiliza esta sintaxis:\n",
    "```fortran\n",
    "    IF (<condición>) THEN\n",
    "        <bloque_de_código>\n",
    "    ELSE\n",
    "        <bloque_de_código>\n",
    "    END IF\n",
    "```\n",
    "La sintaxis para python es:\n",
    "```python\n",
    "    if <condición>:\n",
    "        <bloque de código 1>\n",
    "    else:\n",
    "        <bloque de código 2>\n",
    "```"
   ]
  },
  {
   "cell_type": "code",
   "execution_count": 35,
   "metadata": {},
   "outputs": [
    {
     "name": "stdout",
     "output_type": "stream",
     "text": [
      "Aún no eres mayor de edad.\n",
      "Se ejecutan otras instrucciones...\n"
     ]
    }
   ],
   "source": [
    "edad = 13\n",
    "EDAD_PARA_VOTAR = 18\n",
    "\n",
    "if edad >= EDAD_PARA_VOTAR:\n",
    "    print(\"Ya puedes tramitar tu INE.\")\n",
    "else:\n",
    "    print(\"Aún no eres mayor de edad.\")\n",
    "\n",
    "print(\"Se ejecutan otras instrucciones...\")"
   ]
  },
  {
   "cell_type": "markdown",
   "metadata": {},
   "source": [
    "- Instrucción **if - elif - else**: Evalúa una o más condiciones y ejecuta el bloque de código correspondiente si la condición es verdadera, o evalúa el bloque de código **else** si ninguna de las condiciones anteriores se cumplió. La sintaxis general es la siguiente:\n",
    "\n",
    "```algorithm\n",
    "    if <condición> then\n",
    "        <bloque de código 1>\n",
    "    else if <condición> then\n",
    "        <bloque de código 2>\n",
    "    else if <condición> then\n",
    "        <bloque de código 3>\n",
    "                .\n",
    "                .\n",
    "                .\n",
    "    else\n",
    "        <bloque de código n>\n",
    "    endIf\n",
    "```\n",
    "\n",
    "El lenguaje C adopta la siguiente sintaxis:\n",
    "```c\n",
    "    if (<condición>)\n",
    "    {\n",
    "        <bloque_de_código>\n",
    "    } else if (<condición>)\n",
    "    {\n",
    "        <bloque_de_código>\n",
    "    } else if (<condición>)\n",
    "               .\n",
    "               .\n",
    "               .\n",
    "    else \n",
    "    {\n",
    "        <bloque_de_código>\n",
    "    }\n",
    "```\n",
    "\n",
    "La sintaxis que utiliza python es:\n",
    "\n",
    "```python\n",
    "    if condicion:\n",
    "        <bloque de código 1>\n",
    "    elif:\n",
    "        <bloque de código 2>\n",
    "    elif:\n",
    "        <bloque de código 3>\n",
    "                .\n",
    "                .\n",
    "                .\n",
    "    else:\n",
    "        <bloque de código n>\n",
    "```"
   ]
  },
  {
   "cell_type": "code",
   "execution_count": 36,
   "metadata": {},
   "outputs": [
    {
     "name": "stdout",
     "output_type": "stream",
     "text": [
      "Tu costo de admisión es de $15 pesos.\n"
     ]
    }
   ],
   "source": [
    "edad = 66\n",
    "costo_boleto = 0\n",
    "\n",
    "if edad < 14:\n",
    "    costo_boleto = 5\n",
    "elif edad < 18:\n",
    "    costo_boleto = 10\n",
    "elif edad < 65:\n",
    "    costo_boleto = 20\n",
    "else:\n",
    "    costo_boleto = 15\n",
    "\n",
    "print(f\"Tu costo de admisión es de ${costo_boleto} pesos.\")"
   ]
  },
  {
   "cell_type": "markdown",
   "metadata": {},
   "source": [
    "### Estructuras Iterativas en Python\n",
    "\n",
    "Las estructuras iterativas, también conocidas como **bucles** o **ciclos**, son bloques de código que permiten repetir un conjunto de instrucciones un número determinado de veces o hasta que se cumpla una condición. Son herramientas fundamentales para automatizar tareas repetitivas y crear algoritmos complejos.\n",
    "\n",
    "Tipos de estructuras iterativas:\n",
    "\n",
    "- Bucle **while**:\n",
    "\n",
    "El bucle while se utiliza para repetir un bloque de código mientras se cumpla una condición. La sintaxis básica del bucle while es la siguiente:\n",
    "\n",
    "```algoritmos\n",
    "    while <condición> do\n",
    "        <bloque de código>\n",
    "    endWhile\n",
    "```\n",
    "La sintaxis del ciclo **while** en Python es:\n",
    "```python\n",
    "    while <condición>:\n",
    "        <bloque de código>\n"
   ]
  },
  {
   "cell_type": "code",
   "execution_count": 37,
   "metadata": {},
   "outputs": [
    {
     "name": "stdout",
     "output_type": "stream",
     "text": [
      "1\n",
      "2\n",
      "3\n",
      "4\n",
      "5\n",
      "6\n",
      "7\n",
      "8\n",
      "9\n"
     ]
    }
   ],
   "source": [
    "i = 1\n",
    "\n",
    "while i < 10:\n",
    "    print(i)\n",
    "    i += 1      #! La condición de salida es importante"
   ]
  },
  {
   "cell_type": "markdown",
   "metadata": {},
   "source": [
    "Todo bucle while necesita una forma de dejar de ejecutarse para que no siga ejecutándose eternamente. Todo programador escribe accidentalmente un bucle while infinito de vez en cuando, especialmente cuando los bucles de un programa tienen sutiles condiciones de salida. Si su programa se queda atascado en un bucle infinito, pulse ```CTRL-C``` o simplemente cierre la ventana del terminal que muestra la salida de su programa. \n",
    "\n",
    "Para evitar escribir bucles infinitos, prueba cada bucle while y asegúrate de que el bucle se detiene cuando esperas que lo haga. Si el programa no termina, escudriñe la forma en que su programa maneja el valor que debería causar la salida del bucle. Asegúrese de que al menos una parte del programa puede hacer que la condición del bucle sea ```False```."
   ]
  },
  {
   "cell_type": "code",
   "execution_count": 38,
   "metadata": {},
   "outputs": [
    {
     "name": "stdout",
     "output_type": "stream",
     "text": [
      "\n",
      "Dime algo, te lo voy a repetir:\n",
      "Escribe 'exit' para salir de la aplicación.  Hola\n"
     ]
    },
    {
     "name": "stdout",
     "output_type": "stream",
     "text": [
      "Hola\n"
     ]
    },
    {
     "name": "stdout",
     "output_type": "stream",
     "text": [
      "\n",
      "Dime algo, te lo voy a repetir:\n",
      "Escribe 'exit' para salir de la aplicación.  exit\n"
     ]
    },
    {
     "name": "stdout",
     "output_type": "stream",
     "text": [
      "exit\n"
     ]
    }
   ],
   "source": [
    "console = \"\\nDime algo, te lo voy a repetir:\"\n",
    "console += \"\\nEscribe 'exit' para salir de la aplicación. \"\n",
    "message = \"\"\n",
    "while message != 'exit':\n",
    "    message = input(console)\n",
    "    print(message)"
   ]
  },
  {
   "cell_type": "markdown",
   "metadata": {},
   "source": [
    "#### Sentencia ```break```\n",
    "\n",
    "Para salir de un bucle while inmediatamente sin ejecutar ningún código restante en el bucle, independientemente de los resultados de cualquier prueba condicional, utilice la sentencia ```break```. La sentencia ```break``` dirige el flujo de tu programa dentro del bucle; puedes usarla para controlar qué líneas de código se ejecutan y cuáles no, de forma que el programa sólo ejecute el código que tú quieras, cuando tú quieras."
   ]
  },
  {
   "cell_type": "code",
   "execution_count": 39,
   "metadata": {},
   "outputs": [
    {
     "name": "stdout",
     "output_type": "stream",
     "text": [
      "1\n",
      "2\n",
      "3\n"
     ]
    }
   ],
   "source": [
    "i = 1\n",
    "\n",
    "while i < 10:\n",
    "\n",
    "    if i % 4 == 0:\n",
    "        break\n",
    "\n",
    "    print(i)\n",
    "    i += 1 "
   ]
  },
  {
   "cell_type": "code",
   "execution_count": 40,
   "metadata": {},
   "outputs": [
    {
     "name": "stdout",
     "output_type": "stream",
     "text": [
      "\n",
      "Ejemplo de uso de la sentencia break.\n",
      "Enter a integer number.  10\n"
     ]
    },
    {
     "name": "stdout",
     "output_type": "stream",
     "text": [
      "10\n"
     ]
    }
   ],
   "source": [
    "console = \"\\nEjemplo de uso de la sentencia break.\"\n",
    "console += \"\\nEnter a integer number. \"\n",
    "\n",
    "while True:\n",
    "    number = int(input(console))\n",
    "    print(number)\n",
    "    if number == 10:\n",
    "        break"
   ]
  },
  {
   "cell_type": "code",
   "execution_count": 41,
   "metadata": {},
   "outputs": [
    {
     "name": "stdout",
     "output_type": "stream",
     "text": [
      "\n",
      "Please enter the name of a city you have visited:\n",
      "(Enter 'exit' when you are finished.)  exit\n"
     ]
    }
   ],
   "source": [
    "console = \"\\nPlease enter the name of a city you have visited:\"\n",
    "console += \"\\n(Enter 'exit' when you are finished.) \"\n",
    "\n",
    "while True:\n",
    "    city = input(console)\n",
    "    if city == 'exit':\n",
    "        break\n",
    "    else:\n",
    "        print(f\"I'd love to go to {city.title()}!\")"
   ]
  },
  {
   "cell_type": "markdown",
   "metadata": {},
   "source": [
    "#### Sentencia ```continue```\n",
    "\n",
    "En lugar de salir completamente de un bucle sin ejecutar el resto de su código, puede utilizar la sentencia ```continue``` para volver al principio del bucle, basándose en el resultado de una prueba condicional."
   ]
  },
  {
   "cell_type": "code",
   "execution_count": 42,
   "metadata": {},
   "outputs": [
    {
     "name": "stdout",
     "output_type": "stream",
     "text": [
      "1\n",
      "2\n",
      "3\n",
      "5\n",
      "6\n",
      "7\n",
      "9\n",
      "10\n"
     ]
    }
   ],
   "source": [
    "i = 0\n",
    "\n",
    "while i < 10:\n",
    "\n",
    "    i += 1 \n",
    "\n",
    "    if i % 4 == 0:\n",
    "        continue\n",
    "\n",
    "    print(i)\n"
   ]
  },
  {
   "cell_type": "markdown",
   "metadata": {},
   "source": [
    "- Bucle **for**:\n",
    "\n",
    "El bucle ```for``` se utiliza para repetir un bloque de código un número determinado de veces, especificado por una secuencia o un rango. La sintaxis básica del bucle ```for``` es la siguiente:\n",
    "\n",
    "```algorithm\n",
    "    for <variable> <- <valor inicial> to <valor final>\n",
    "        <bloque de código>\n",
    "    endFor\n",
    "```\n",
    "\n",
    "Ejemplo de bucle ```for``` en el lenguaje java:\n",
    "```java\n",
    "    for (i = 1; i < 10; i += 1) {\n",
    "        <bloque de código que hace algo>\n",
    "    }\n",
    "```\n",
    "\n",
    "La sintaxis del bucle ```for``` en python es:\n",
    "```python\n",
    "    for <variable de iteración> in <secuencia de valores a iterar>:\n",
    "        <bloque de código>\n",
    "```"
   ]
  },
  {
   "cell_type": "code",
   "execution_count": 43,
   "metadata": {},
   "outputs": [
    {
     "name": "stdout",
     "output_type": "stream",
     "text": [
      "1\n",
      "2\n",
      "3\n",
      "4\n",
      "5\n"
     ]
    }
   ],
   "source": [
    "for i in [1, 2, 3, 4, 5]:\n",
    "    print(i)"
   ]
  },
  {
   "cell_type": "markdown",
   "metadata": {},
   "source": [
    "#### Función ```range```\n",
    "\n",
    "La función ```range()``` en Python es una herramienta fundamental para generar secuencias de números enteros de manera eficiente. Se utiliza principalmente en conjunto con bucles ```for``` para iterar sobre una secuencia de números.\n",
    "\n",
    "La sintaxis básica de la función ```range()``` es la siguiente:\n",
    "\n",
    "```python\n",
    "    range(<inicio>, <fin>, <incremento>)\n",
    "```\n",
    "\n",
    "donde:\n",
    "\n",
    "- inicio (opcional): Especifica el valor inicial de la secuencia. Por defecto, es 0.\n",
    "- fin (opcional): Especifica el valor final de la secuencia. No se incluye en la secuencia. Por defecto, es el valor del inicio más el incremento.\n",
    "- incremento (opcional): Especifica la diferencia entre los números consecutivos de la secuencia. Por defecto, es 1."
   ]
  },
  {
   "cell_type": "code",
   "execution_count": 44,
   "metadata": {},
   "outputs": [
    {
     "name": "stdout",
     "output_type": "stream",
     "text": [
      "1\n",
      "3\n",
      "5\n",
      "7\n",
      "9\n"
     ]
    }
   ],
   "source": [
    "for i in range(1, 10, 2):\n",
    "    print(i)"
   ]
  },
  {
   "cell_type": "code",
   "execution_count": 45,
   "metadata": {},
   "outputs": [
    {
     "name": "stdout",
     "output_type": "stream",
     "text": [
      "hola\n",
      "Hola\n",
      "hola\n",
      "HOLA\n",
      "chicos\n",
      "Chicos\n",
      "chicos\n",
      "CHICOS\n",
      "de\n",
      "De\n",
      "de\n",
      "DE\n",
      "ambientales\n",
      "Ambientales\n",
      "ambientales\n",
      "AMBIENTALES\n"
     ]
    }
   ],
   "source": [
    "for string in [\"hola\", \"chicos\", \"de\", \"ambientales\"]:\n",
    "    print(string)\n",
    "    print(string.title())\n",
    "    print(string.lower())\n",
    "    print(string.upper())"
   ]
  },
  {
   "cell_type": "markdown",
   "metadata": {},
   "source": [
    "## 3. Funciones\n",
    "\n",
    "### Definición y llamada de funciones\n",
    "\n",
    "Las funciones son bloques de código con nombre **definidos** para realizar un trabajo específico. Cuando quieras realizar una tarea concreta que hayas definido en una función, *llama* a la función responsable de ella. Si necesitas realizar esa tarea varias veces a lo largo de tu programa, no necesitas escribir todo el código para la misma tarea una y otra vez; simplemente llamas a la función dedicada a manejar esa tarea, y la *llamada* le dice a Python que ejecute el código dentro de la función. El uso de funciones hace que tus programas sean más **fáciles de escribir, leer, probar y corregir**.\n",
    "\n",
    "La sintaxis general de una función es la siguiente:\n",
    "\n",
    "```algorithm\n",
    "    Function <tipo_de_dato_de_retorno> <- <nombre_de_la_función>(<lista_de_parámetros>)\n",
    "\n",
    "        <bloque_de_código>\n",
    "    \n",
    "    endFunction\n",
    "\n",
    "```\n",
    "\n",
    "En python la sintaxis para definir una función es:\n",
    "```python\n",
    "    def <nombre_de_la_función> (<Lista_de_parámetros>):\n",
    "        <bloque_de_código>\n",
    "```\n",
    "\n",
    "Así se define una función en el lenguaje de Rust:\n",
    "```rust\n",
    "    fn <nombre_de_la_función>(<Lista_de_parámetros>) -> <tipo_de_dato_de_retorno> {\n",
    "        <bloque_de_código>\n",
    "    }\n",
    "```\n",
    "Para el lenguaje de programación C se usa la siguiente sintaxis:\n",
    "```c\n",
    "    <tipo_de_dato_de_retorno> <nombre_de_la_función>(<lista_de_parámetros>) \n",
    "    {\n",
    "        <bloque_de_código>\n",
    "    }\n",
    "```"
   ]
  },
  {
   "cell_type": "code",
   "execution_count": 46,
   "metadata": {},
   "outputs": [],
   "source": [
    "# Ejemplo de definición de funciones\n",
    "import math\n",
    "\n",
    "def funcion_para_saludar():\n",
    "    print(\"Hola chicos de ambientales, soy una función\")\n",
    "\n",
    "def funcion_para_saludar_con_argumentos(pon_tu_nombre_aqui):\n",
    "    print(f\"Muchos gusto {pon_tu_nombre_aqui}, te saluda una función\")\n",
    "\n",
    "def calcular_terna_pitagorica(numero_natural_1, numero_natural_2):\n",
    "    valor_a = math.pow(numero_natural_1, 2) - math.pow(numero_natural_2, 2)\n",
    "    valor_b = 2.0 * numero_natural_1 * numero_natural_2\n",
    "    valor_c = math.pow(numero_natural_1, 2) + math.pow(numero_natural_2, 2)\n",
    "    print(f\"La terna pitagórica formada por los números naturales {numero_natural_1} y {numero_natural_2} es\")\n",
    "    print(f\"({valor_a}, {valor_b}, {valor_c})\")"
   ]
  },
  {
   "cell_type": "code",
   "execution_count": 47,
   "metadata": {},
   "outputs": [
    {
     "name": "stdout",
     "output_type": "stream",
     "text": [
      "Hola chicos de ambientales, soy una función\n",
      "Muchos gusto Edwin, te saluda una función\n",
      "La terna pitagórica formada por los números naturales 5 y 3 es\n",
      "(16.0, 30.0, 34.0)\n"
     ]
    }
   ],
   "source": [
    "funcion_para_saludar()\n",
    "funcion_para_saludar_con_argumentos(\"Edwin\")\n",
    "calcular_terna_pitagorica(5, 3)"
   ]
  },
  {
   "cell_type": "markdown",
   "metadata": {},
   "source": [
    "### Parámetros y argumentos\n",
    "\n",
    "En programación, los **parámetros** y los **argumentos** son conceptos fundamentales para entender el funcionamiento de las funciones. Si bien están estrechamente relacionados, tienen roles y características distintivas.\n",
    "\n",
    "Parámetros: Los parámetros son las variables que se definen en la declaración de una función. Son como espacios reservados que esperan recibir valores cuando la función sea llamada. Se encuentran dentro de los paréntesis cuando se define la función.\n",
    "\n",
    "Argumentos: Los argumentos son los valores que se pasan a una función cuando esta es llamada. Son los valores que se \"llenan\" en los espacios reservados de los parámetros. Se encuentran en los paréntesis cuando se llama a la función."
   ]
  },
  {
   "cell_type": "markdown",
   "metadata": {},
   "source": [
    "### Paso de argumentos.\n",
    "\n",
    "Existen dos formas principales de pasar argumentos a una función:\n",
    "\n",
    "- **Paso por valor**: En este caso, se copia el valor del argumento a la variable del parámetro dentro de la función. Cualquier modificación que se haga a la variable del parámetro dentro de la función no afecta al valor original del argumento.\n",
    "\n",
    "- **Paso por referencia**: En este caso, se pasa la referencia (dirección de memoria) de la variable del argumento a la variable del parámetro dentro de la función. Cualquier modificación que se haga a la variable del parámetro dentro de la función también modifica el valor original del argumento."
   ]
  },
  {
   "cell_type": "code",
   "execution_count": 35,
   "metadata": {},
   "outputs": [
    {
     "name": "stdout",
     "output_type": "stream",
     "text": [
      "5\n",
      "5\n"
     ]
    }
   ],
   "source": [
    "variable = 5\n",
    "def modificar_valor(variable):\n",
    "    variable *= 2\n",
    "# ---------------------------------\n",
    "print(variable)\n",
    "modificar_valor(variable)\n",
    "print(variable)"
   ]
  },
  {
   "cell_type": "code",
   "execution_count": 37,
   "metadata": {},
   "outputs": [
    {
     "name": "stdout",
     "output_type": "stream",
     "text": [
      "[1, 2, 3]\n",
      "[2, 4, 6]\n"
     ]
    }
   ],
   "source": [
    "list = [1, 2, 3]\n",
    "def modificar_valor(list):\n",
    "    for i in range(3):\n",
    "        list[i] *= 2\n",
    "# ---------------------------------\n",
    "print(list)\n",
    "modificar_valor(list)\n",
    "print(list)"
   ]
  },
  {
   "cell_type": "code",
   "execution_count": 19,
   "metadata": {},
   "outputs": [],
   "source": [
    "# list = [1, 2, 3]\n",
    "# for i in range(len(list)):\n",
    "#     print(list[i])\n",
    "\n",
    "# for i,n in enumerate(list):\n",
    "#     print(f\"i = {i} y n = {n}.\")"
   ]
  },
  {
   "cell_type": "markdown",
   "metadata": {},
   "source": [
    "### Recuperación de valores\n",
    "\n",
    "Una función no siempre tiene que mostrar su salida directamente. En su lugar, puede procesar algunos datos y luego devolver un valor o conjunto de valores. El valor que devuelve la función se denomina **valor de retorno**. La sentencia ```return``` toma un valor del interior de una función y lo devuelve a la línea que llamó a la función. Los valores de retorno le permiten mover gran parte del trabajo pesado de su programa a las funciones, lo que puede simplificar el cuerpo de su programa.\n",
    "\n",
    "Cuando se llama a una función que devuelve un valor, es necesario proporcionar una variable a la que se pueda asignar el valor devuelto."
   ]
  },
  {
   "cell_type": "code",
   "execution_count": 48,
   "metadata": {},
   "outputs": [],
   "source": [
    "def obtener_saludo():\n",
    "    saludo = \"Hola chicos de ambientales, soy una función\"\n",
    "    return saludo\n",
    "\n",
    "def obtener_saludo_para(nombre):\n",
    "    saludo = f\"Muchos gusto {nombre}, te saluda una función\"\n",
    "    return saludo\n",
    "\n",
    "def obtener_terna_pitagorica(numero_natural_1, numero_natural_2):\n",
    "    valor_a = math.pow(numero_natural_1, 2) - math.pow(numero_natural_2, 2)\n",
    "    valor_b = 2.0 * numero_natural_1 * numero_natural_2\n",
    "    valor_c = math.pow(numero_natural_1, 2) + math.pow(numero_natural_2, 2)\n",
    "    return valor_a, valor_b, valor_c"
   ]
  },
  {
   "cell_type": "code",
   "execution_count": 49,
   "metadata": {},
   "outputs": [
    {
     "name": "stdout",
     "output_type": "stream",
     "text": [
      "Hola chicos de ambientales, soy una función\n"
     ]
    }
   ],
   "source": [
    "saludo_obtenido = obtener_saludo()\n",
    "print(saludo_obtenido)"
   ]
  },
  {
   "cell_type": "code",
   "execution_count": 50,
   "metadata": {},
   "outputs": [
    {
     "name": "stdout",
     "output_type": "stream",
     "text": [
      "Muchos gusto Andrea, te saluda una función\n"
     ]
    }
   ],
   "source": [
    "saludo_especial = obtener_saludo_para(\"Andrea\")\n",
    "print(saludo_especial)"
   ]
  },
  {
   "cell_type": "code",
   "execution_count": 51,
   "metadata": {},
   "outputs": [
    {
     "name": "stdout",
     "output_type": "stream",
     "text": [
      "La terna pitagórica formada por los números naturales 5 y 3 es\n",
      "(16.0, 30.0, 34.0)\n"
     ]
    }
   ],
   "source": [
    "numero_natural_1 = 5\n",
    "numero_natural_2 = 3\n",
    "valor_1, valor_2, valor_3 = obtener_terna_pitagorica(numero_natural_1, numero_natural_2)\n",
    "\n",
    "print(f\"La terna pitagórica formada por los números naturales {numero_natural_1} y {numero_natural_2} es\")\n",
    "print(f\"({valor_1}, {valor_2}, {valor_3})\")"
   ]
  },
  {
   "cell_type": "markdown",
   "metadata": {},
   "source": [
    "## Estructura de datos\n",
    "\n",
    "Las estructuras de datos son la base fundamental para organizar y almacenar información en un programa. La elección de la estructura de datos adecuada es crucial para el rendimiento y la eficiencia de un programa. \n",
    "\n",
    "Existen dos tipos principales de estructuras de datos:\n",
    "\n",
    "1. Estructuras de datos lineales:\n",
    "\n",
    "    - Arreglos (Arrays): Un arreglo es una colección de elementos del mismo tipo almacenados en posiciones contiguas de memoria. Se accede a cada elemento mediante un índice numérico. Los arreglos son estructuras de datos estáticas, lo que significa que su tamaño se define en tiempo de compilación y no se puede modificar durante la ejecución del programa.\n",
    "\n",
    "    - Listas enlazadas: Una lista enlazada es una colección de elementos, llamados nodos, conectados entre sí por punteros. Cada nodo contiene un valor y un puntero al siguiente nodo en la lista. Las listas enlazadas son estructuras de datos dinámicas, lo que significa que su tamaño puede cambiar durante la ejecución del programa.\n",
    "\n",
    "    - Pilas (Stacks): Una pila es una estructura de datos LIFO (Last In, First Out). Esto significa que el último elemento agregado a la pila es el primero en ser eliminado. Las pilas se utilizan comúnmente para implementar algoritmos de retroceso y deshacer.\n",
    "\n",
    "    - Colas (Queues): Una cola es una estructura de datos FIFO (First In, First Out). Esto significa que el primer elemento agregado a la cola es el primero en ser eliminado. Las colas se utilizan comúnmente para implementar sistemas de búfer y tareas de procesamiento por orden de llegada.\n",
    "\n",
    "2. Estructuras de datos no lineales:\n",
    "\n",
    "    - Árboles: Un árbol es una estructura de datos jerárquica que consiste en un nodo raíz, conectado a cero o más nodos secundarios. Cada nodo puede tener cero o más hijos. Los árboles se utilizan comúnmente para representar datos jerárquicos, como sistemas de archivos y árboles de expresión.\n",
    "\n",
    "    - Grafos: Un grafo es una estructura de datos que consiste en un conjunto de nodos (vértices) y un conjunto de aristas que conectan pares de nodos. Los grafos se utilizan comúnmente para representar relaciones entre entidades, como redes sociales y mapas de carreteras.\n",
    "\n",
    "    - Tablas hash: Una tabla hash es una estructura de datos que asocia claves con valores. La clave se utiliza para calcular un índice en la tabla, donde se almacena el valor correspondiente. Las tablas hash son muy eficientes para buscar y almacenar datos."
   ]
  },
  {
   "cell_type": "markdown",
   "metadata": {},
   "source": [
    "## "
   ]
  },
  {
   "cell_type": "markdown",
   "metadata": {},
   "source": [
    "## Arreglos en python e introducción a NumPy.\n",
    "\n",
    "### NumPy: La base para el cómputo científico en Python\n",
    "\n",
    "NumPy, abreviatura de Numerical Python, es la biblioteca principal de Python para realizar cálculos numéricos. Permite la creación de arreglos y matrices multidimensionales de gran tamaño y proporciona una amplia colección de funciones matemáticas de alto nivel para operar con estos arreglos.\n",
    "\n",
    "Las operaciones en NumPy son más rápidas y eficientes que la funcionalidad equivalente en la biblioteca estándar que se incluye con Python."
   ]
  },
  {
   "cell_type": "markdown",
   "metadata": {},
   "source": [
    "Para comprender los arreglos, es necesario conocer su estructura. El número de dimensiones en un arreglo es la cantidad de índices necesarios para seleccionar un elemento del mismo. Se puede pensar en una dimensión como un eje del arreglo.\n",
    "\n",
    "El número de dimensiones en un arreglo, también llamado rango, se puede utilizar para describir el arreglo. En la figura se puede ver un ejemplo gráfico de arreglos unidimensionales, bidimensionales y tridimensionales.\n",
    "\n",
    "<div style=\"text-align: center;\">\n",
    "    <img src=\"../images/numpy_arrays.png\" alt=\"Banner curso\" style=\"width:40%\">\n",
    "</div>\n",
    "\n",
    "La forma de un arreglo es una tupla de enteros que representan el tamaño del arreglo a lo largo de cada dimensión, comenzando por la primera dimensión (eje 0). Se muestran ejemplos de formas debajo de cada arreglo en la figura anterior. El número de enteros en estas tuplas es igual al rango del arreglo.\n",
    "\n",
    "<!-- <div style=\"text-align: center;\">\n",
    "    <img src=\"../images/NumPy-array.webp\" alt=\"Banner curso\" style=\"width:40%\">\n",
    "</div> -->"
   ]
  },
  {
   "cell_type": "code",
   "execution_count": 2,
   "metadata": {},
   "outputs": [
    {
     "name": "stdout",
     "output_type": "stream",
     "text": [
      "[5 4 9]\n",
      "Shape: (3,)\n"
     ]
    }
   ],
   "source": [
    "import numpy as np  # Importamos la librería\n",
    "\n",
    "# Crear un arreglo unidimensional\n",
    "arreglo_unidimensional = np.array([5, 4, 9])\n",
    "print(arreglo_unidimensional)\n",
    "print(f\"Shape: {arreglo_unidimensional.shape}\")"
   ]
  },
  {
   "cell_type": "code",
   "execution_count": 6,
   "metadata": {},
   "outputs": [
    {
     "name": "stdout",
     "output_type": "stream",
     "text": [
      "[[4.1 2.  6.7]\n",
      " [0.3 9.4 2.2]]\n",
      "Shape: (2, 3)\n"
     ]
    }
   ],
   "source": [
    "# Crear un arreglo bidimensional\n",
    "arreglo_tridimensional = np.array([\n",
    "                                    [4.1, 2.0, 6.7],\n",
    "                                    [0.3, 9.4, 2.2]\n",
    "                                ])\n",
    "print(arreglo_tridimensional)\n",
    "print(f\"Shape: {arreglo_tridimensional.shape}\")"
   ]
  },
  {
   "cell_type": "code",
   "execution_count": 11,
   "metadata": {},
   "outputs": [
    {
     "name": "stdout",
     "output_type": "stream",
     "text": [
      "[[[1 0 1 1]\n",
      "  [0 1 1 1]\n",
      "  [1 1 0 1]]\n",
      "\n",
      " [[0 0 0 0]\n",
      "  [0 0 0 0]\n",
      "  [1 1 0 1]]]\n",
      "Shape: (2, 3, 4)\n",
      "Size: 24\n"
     ]
    }
   ],
   "source": [
    "# Crear un arreglo tridimensional\n",
    "arreglo_tridimensional = np.array([[[1, 0, 1, 1],\n",
    "                                   [0, 1, 1, 1],\n",
    "                                   [1, 1, 0, 1]],\n",
    "\n",
    "                                  [[0, 0, 0, 0],\n",
    "                                   [0, 0, 0, 0],\n",
    "                                   [1, 1, 0, 1]]])\n",
    "print(arreglo_tridimensional)\n",
    "print(f\"Shape: {arreglo_tridimensional.shape}\")"
   ]
  },
  {
   "cell_type": "markdown",
   "metadata": {},
   "source": [
    "### Atributos de los arreglos"
   ]
  },
  {
   "cell_type": "markdown",
   "metadata": {},
   "source": [
    "#### Arreglos unidimensionales"
   ]
  },
  {
   "cell_type": "code",
   "execution_count": 21,
   "metadata": {},
   "outputs": [
    {
     "name": "stdout",
     "output_type": "stream",
     "text": [
      "El número de dimensiones del vector es: 1\n",
      "El número de dimensiones del vector es: (5,)\n",
      "El número de elementos del vector es: 5\n",
      "El tipo de dato del vector es: int64\n",
      "El vector es:\n",
      "[ 2  4  6  8 10]\n"
     ]
    }
   ],
   "source": [
    "vector = np.array([2,4,6,8,10])\n",
    "\n",
    "# ndim: Devuelve el número de dimensiones del array.\n",
    "numero_de_dimensiones_del_vector = vector.ndim\n",
    "print(f'El número de dimensiones del vector es: {numero_de_dimensiones_del_vector}')\n",
    "\n",
    "# shape: Devuelve una tupla con las dimensiones del array.\n",
    "dimensiones_del_vector = vector.shape\n",
    "print(f'El número de dimensiones del vector es: {dimensiones_del_vector}')\n",
    "\n",
    "# size:  Devuelve el número de elementos del array.\n",
    "numero_de_elementos_del_vector = vector.size\n",
    "print(f'El número de elementos del vector es: {numero_de_elementos_del_vector}')\n",
    "\n",
    "# dtype: Devuelve el tipo de datos de los elementos del array.\n",
    "tipo_de_dato_del_vector = vector.dtype\n",
    "print(f'El tipo de dato del vector es: {tipo_de_dato_del_vector}')\n",
    "\n",
    "print(f'El vector es:')\n",
    "print(vector)"
   ]
  },
  {
   "cell_type": "markdown",
   "metadata": {},
   "source": [
    "#### Arreglos bidimensionales"
   ]
  },
  {
   "cell_type": "code",
   "execution_count": 25,
   "metadata": {},
   "outputs": [
    {
     "name": "stdout",
     "output_type": "stream",
     "text": [
      "El número de dimensiones de la matriz es: 2\n",
      "El número de dimensiones de la matriz es: (3, 5)\n",
      "El número de elementos de la matriz es: 15\n",
      "El tipo de dato del matriz es: float64\n",
      "La matriz es:\n",
      "[[  2.    4.    6.    8.   10. ]\n",
      " [  4.   16.   36.   64.  100. ]\n",
      " [  2.3   4.3   6.3   8.3  10.3]]\n"
     ]
    }
   ],
   "source": [
    "matriz = np.array([\n",
    "        [2,4,6,8,10],\n",
    "        [4,16,36,64,100],\n",
    "        [2.3,4.3,6.3,8.3,10.3]\n",
    "    ])\n",
    "\n",
    "# ndim: Devuelve el número de dimensiones del array.\n",
    "numero_de_dimensiones_de_la_matriz = matriz.ndim\n",
    "print(f'El número de dimensiones de la matriz es: {numero_de_dimensiones_de_la_matriz}')\n",
    "\n",
    "# shape: Devuelve una tupla con las dimensiones del array.\n",
    "dimensiones_de_la_matriz = matriz.shape\n",
    "print(f'El número de dimensiones de la matriz es: {dimensiones_de_la_matriz}')\n",
    "\n",
    "# size:  Devuelve el número de elementos del array.\n",
    "numero_de_elementos_de_la_matriz = matriz.size\n",
    "print(f'El número de elementos de la matriz es: {numero_de_elementos_de_la_matriz}')\n",
    "\n",
    "# dtype: Devuelve el tipo de datos de los elementos del array.\n",
    "tipo_de_dato_de_la_matriz = matriz.dtype\n",
    "print(f'El tipo de dato del matriz es: {tipo_de_dato_de_la_matriz}')\n",
    "\n",
    "print(f'La matriz es:')\n",
    "print(matriz)"
   ]
  },
  {
   "cell_type": "markdown",
   "metadata": {},
   "source": [
    "#### Acceder a los valores de un arreglo"
   ]
  },
  {
   "cell_type": "code",
   "execution_count": 32,
   "metadata": {},
   "outputs": [
    {
     "name": "stdout",
     "output_type": "stream",
     "text": [
      "El vector es:\n",
      "[ 2  4  6  8 10]\n",
      "vector[3] = 8\n"
     ]
    }
   ],
   "source": [
    "print(f'El vector es:')\n",
    "print(vector)\n",
    "\n",
    "# Para un arreglo unidimensional, se accede de la siguiente manera:\n",
    "indice = 3\n",
    "valor = vector[indice]\n",
    "print(f'vector[{indice}] = {valor}')"
   ]
  },
  {
   "cell_type": "code",
   "execution_count": 39,
   "metadata": {},
   "outputs": [
    {
     "name": "stdout",
     "output_type": "stream",
     "text": [
      "La matriz es:\n",
      "[[  2.    4.    6.    8.   10. ]\n",
      " [  4.   16.   36.   64.  100. ]\n",
      " [  2.3   4.3   6.3   8.3  10.3]]\n",
      "Primera forma: matriz[2, 3] = 8.3\n",
      "Segunda forma: matriz[2][3] = 8.3\n"
     ]
    }
   ],
   "source": [
    "print(f'La matriz es:')\n",
    "print(matriz)\n",
    "\n",
    "# Primera forma\n",
    "indice_fila = 2\n",
    "indice_columna = 3\n",
    "valor = matriz[indice_fila, indice_columna]\n",
    "print(f'Primera forma: matriz[{indice_fila}, {indice_columna}] = {valor}')\n",
    "\n",
    "# Segunda forma\n",
    "valor = matriz[indice_fila][indice_columna]\n",
    "print(f'Segunda forma: matriz[{indice_fila}][{indice_columna}] = {valor}')"
   ]
  },
  {
   "cell_type": "markdown",
   "metadata": {},
   "source": [
    "### Obtener subarreglos"
   ]
  },
  {
   "cell_type": "code",
   "execution_count": 46,
   "metadata": {},
   "outputs": [
    {
     "name": "stdout",
     "output_type": "stream",
     "text": [
      "[7.6  2.55 1.09 3.34 1.87 6.96 5.31 3.7  2.02 1.74]\n"
     ]
    }
   ],
   "source": [
    "# Generar temperaturas de 10 elementos\n",
    "temperaturas = np.random.uniform(1, 10, 10)\n",
    "\n",
    "# Formatear a dos decimales\n",
    "temperaturas = np.around(temperaturas, decimals=2)\n",
    "\n",
    "print(temperaturas)"
   ]
  },
  {
   "cell_type": "code",
   "execution_count": 79,
   "metadata": {},
   "outputs": [
    {
     "name": "stdout",
     "output_type": "stream",
     "text": [
      "sub_vector = [5, 6, 7, 8, 9, 10]\n"
     ]
    }
   ],
   "source": [
    "# En el caso de arreglos unidimensionales\n",
    "vector = [1,2,3,4,5,6,7,8,9,10]\n",
    "\n",
    "sub_vector = vector[4:10]\n",
    "# sub_vector = vector[:]\n",
    "print(f'sub_vector = {sub_vector}')"
   ]
  },
  {
   "cell_type": "code",
   "execution_count": 29,
   "metadata": {},
   "outputs": [
    {
     "name": "stdout",
     "output_type": "stream",
     "text": [
      "[[ 1  2  3  4  5]\n",
      " [ 6  7  8  9 10]\n",
      " [11 12 13 14 15]\n",
      " [16 17 18 19 20]]\n",
      "sub_matriz = [16 17 18 19 20]\n"
     ]
    }
   ],
   "source": [
    "# En el caso de arreglos bidimensionales\n",
    "matriz = np.array([\n",
    "    [1,2,3,4,5],\n",
    "    [6,7,8,9,10],\n",
    "    [11,12,13,14,15],\n",
    "    [16,17,18,19,20]\n",
    "])\n",
    "\n",
    "print(matriz)\n",
    "sub_matriz = matriz[3, :]\n",
    "# sub_matriz = matriz[2, 0:3]\n",
    "# sub_matriz = matriz[:, 3]\n",
    "# sub_matriz = matriz[1:4, 3]\n",
    "# sub_matriz = matriz[1:3, :]\n",
    "# sub_matriz = matriz[:, 1:3]\n",
    "# sub_matriz = matriz[1:3, 2:4]\n",
    "# sub_matriz = matriz[:, :]\n",
    "print(f'sub_matriz = {sub_matriz}')"
   ]
  },
  {
   "cell_type": "markdown",
   "metadata": {},
   "source": [
    "### Funciones para generar arreglos.\n",
    "\n",
    "La función `np.arange` genera un array con valores dentro de un intervalo especificado, con un paso constante entre cada valor.\n",
    "```python\n",
    "    np.arrange(start, end, step)\n",
    "```"
   ]
  },
  {
   "cell_type": "code",
   "execution_count": 45,
   "metadata": {},
   "outputs": [
    {
     "name": "stdout",
     "output_type": "stream",
     "text": [
      "[0 1 2 3 4 5 6 7 8 9]\n",
      "[0 1 2 3 4 5 6 7 8 9]\n",
      "[ 0  1  2  3  4  5  6  7  8  9 10]\n",
      "[0 3 6 9]\n"
     ]
    }
   ],
   "source": [
    "start_a = 0\n",
    "end_a = 10\n",
    "step_a = 3\n",
    "\n",
    "arrange_1 = np.arange(end_a) # step por default es uno y start por default es cero\n",
    "print(arrange_1)\n",
    "\n",
    "arrange_2 = np.arange(start_a, end_a)\n",
    "print(arrange_2)\n",
    "\n",
    "arrange_3 = np.arange(start_a, end_a + 1) # Si queremos se incluya el valor end_a, entonces end_a + 1\n",
    "print(arrange_3)\n",
    "\n",
    "arrange_4 = np.arange(start_a, end_a + 1, step_a) \n",
    "print(arrange_4)"
   ]
  },
  {
   "cell_type": "markdown",
   "metadata": {},
   "source": [
    "La función `np.linspace` genera un array con un número especificado de valores equidistantes dentro de un intervalo.\n",
    "```python\n",
    "    np.linspace(start, end, num)\n",
    "```"
   ]
  },
  {
   "cell_type": "code",
   "execution_count": 72,
   "metadata": {},
   "outputs": [
    {
     "name": "stdout",
     "output_type": "stream",
     "text": [
      "[0.         0.04081633 0.08163265 0.12244898 0.16326531 0.20408163\n",
      " 0.24489796 0.28571429 0.32653061 0.36734694 0.40816327 0.44897959\n",
      " 0.48979592 0.53061224 0.57142857 0.6122449  0.65306122 0.69387755\n",
      " 0.73469388 0.7755102  0.81632653 0.85714286 0.89795918 0.93877551\n",
      " 0.97959184 1.02040816 1.06122449 1.10204082 1.14285714 1.18367347\n",
      " 1.2244898  1.26530612 1.30612245 1.34693878 1.3877551  1.42857143\n",
      " 1.46938776 1.51020408 1.55102041 1.59183673 1.63265306 1.67346939\n",
      " 1.71428571 1.75510204 1.79591837 1.83673469 1.87755102 1.91836735\n",
      " 1.95918367 2.        ]\n",
      "\n",
      "[0.  0.5 1.  1.5 2. ]\n",
      "\n",
      "[0.  0.4 0.8 1.2 1.6]\n"
     ]
    }
   ],
   "source": [
    "start_l = 0\n",
    "end_l = 2\n",
    "num_l = 5\n",
    "\n",
    "linspace_1 = np.linspace(start_l, end_l) # no hay valor start por default y num por default es 50\n",
    "print(linspace_1)\n",
    "print()\n",
    "\n",
    "linspace_2 = np.linspace(start_l, end_l, num_l) \n",
    "print(linspace_2)\n",
    "print()\n",
    "\n",
    "linspace_3 = np.linspace(0,2,5, endpoint=False) # para no incluir valor end\n",
    "print(linspace_3)"
   ]
  },
  {
   "cell_type": "markdown",
   "metadata": {},
   "source": [
    "La función `np.zeros` crea un array de ceros con la forma especificada.\n",
    "```python\n",
    "    np.zeros(shape)\n",
    "```"
   ]
  },
  {
   "cell_type": "code",
   "execution_count": 53,
   "metadata": {},
   "outputs": [
    {
     "name": "stdout",
     "output_type": "stream",
     "text": [
      "[0. 0. 0. 0.]\n",
      "\n",
      "[[0. 0. 0. 0.]\n",
      " [0. 0. 0. 0.]\n",
      " [0. 0. 0. 0.]]\n"
     ]
    }
   ],
   "source": [
    "shape_unidimensional = (4,)\n",
    "shape_bidimensional = (3,4)\n",
    "\n",
    "vector = np.zeros(shape_unidimensional)\n",
    "matriz = np.zeros(shape_bidimensional)\n",
    "\n",
    "print(vector)\n",
    "print()\n",
    "print(matriz)"
   ]
  },
  {
   "cell_type": "markdown",
   "metadata": {},
   "source": [
    "La función `np.ones` crea un array de unos con la forma especificada.\n",
    "```python\n",
    "    np.ones(shape)\n",
    "```"
   ]
  },
  {
   "cell_type": "code",
   "execution_count": 54,
   "metadata": {},
   "outputs": [
    {
     "name": "stdout",
     "output_type": "stream",
     "text": [
      "[1. 1. 1. 1.]\n",
      "\n",
      "[[1. 1. 1. 1.]\n",
      " [1. 1. 1. 1.]\n",
      " [1. 1. 1. 1.]]\n"
     ]
    }
   ],
   "source": [
    "shape_unidimensional = (4,)\n",
    "shape_bidimensional = (3,4)\n",
    "\n",
    "vector = np.ones(shape_unidimensional)\n",
    "matriz = np.ones(shape_bidimensional)\n",
    "\n",
    "print(vector)\n",
    "print()\n",
    "print(matriz)"
   ]
  },
  {
   "cell_type": "markdown",
   "metadata": {},
   "source": [
    "La función `np.full` crea un array lleno con un valor específico.\n",
    "```python\n",
    "    np.full(shape, fill_value)\n",
    "```"
   ]
  },
  {
   "cell_type": "code",
   "execution_count": 71,
   "metadata": {},
   "outputs": [
    {
     "name": "stdout",
     "output_type": "stream",
     "text": [
      "[4 4 4 4]\n",
      "\n",
      "[[6.3 6.3 6.3 6.3]\n",
      " [6.3 6.3 6.3 6.3]\n",
      " [6.3 6.3 6.3 6.3]]\n"
     ]
    }
   ],
   "source": [
    "shape_unidimensional = (4,)\n",
    "shape_bidimensional = (3,4)\n",
    "\n",
    "vector = np.full(shape_unidimensional, 4)\n",
    "matriz = np.full(shape_bidimensional, 6.3)\n",
    "\n",
    "print(vector)\n",
    "print()\n",
    "print(matriz)"
   ]
  },
  {
   "cell_type": "markdown",
   "metadata": {},
   "source": [
    "La función `np.eye` permite crear una matriz con unos en la diagonal principal y ceros en otros lugares.\n",
    "```python\n",
    "    np.eye(N, M, k)\n",
    "```\n",
    "\n",
    "donde \n",
    "- N: Número de filas de la matriz.\n",
    "- M: Número de columnas de la matriz. Si no se especifica, se toma como N.\n",
    "- k: Índice de la diagonal. k=0 (por defecto) es la diagonal principal, k>0 es una diagonal por encima de la principal, y k<0 es una diagonal por debajo de la principal."
   ]
  },
  {
   "cell_type": "code",
   "execution_count": 62,
   "metadata": {},
   "outputs": [
    {
     "name": "stdout",
     "output_type": "stream",
     "text": [
      "[[1. 0. 0. 0.]\n",
      " [0. 1. 0. 0.]\n",
      " [0. 0. 1. 0.]\n",
      " [0. 0. 0. 1.]]\n",
      "\n",
      "[[1. 0. 0. 0. 0. 0.]\n",
      " [0. 1. 0. 0. 0. 0.]\n",
      " [0. 0. 1. 0. 0. 0.]\n",
      " [0. 0. 0. 1. 0. 0.]]\n",
      "\n",
      "[[0. 0. 0. 0. 0. 0.]\n",
      " [1. 0. 0. 0. 0. 0.]\n",
      " [0. 1. 0. 0. 0. 0.]\n",
      " [0. 0. 1. 0. 0. 0.]]\n",
      "\n",
      "[[0. 0. 0. 0.]\n",
      " [1. 0. 0. 0.]\n",
      " [0. 1. 0. 0.]\n",
      " [0. 0. 1. 0.]]\n"
     ]
    }
   ],
   "source": [
    "N = 4\n",
    "M = 6\n",
    "k = -1\n",
    "\n",
    "matriz_1 = np.eye(N) # M es opcional y k es igual a uno por default\n",
    "matriz_2 = np.eye(N,M)\n",
    "matriz_3 = np.eye(N,M,k)\n",
    "matriz_4 = np.eye(N,N,k)\n",
    "\n",
    "print(matriz_1)\n",
    "print()\n",
    "print(matriz_2)\n",
    "print()\n",
    "print(matriz_3)\n",
    "print()\n",
    "print(matriz_4)"
   ]
  },
  {
   "cell_type": "markdown",
   "metadata": {},
   "source": [
    "La función `np.identity` es una forma más simple de crear una matriz identidad (una matriz cuadrada con unos en la diagonal principal y ceros en otros lugares).\n",
    "```python\n",
    "    np.identity(n)\n",
    "```\n",
    "donde `n` es el número de filas (y columnas) de la matriz cuadrada."
   ]
  },
  {
   "cell_type": "code",
   "execution_count": 67,
   "metadata": {},
   "outputs": [
    {
     "name": "stdout",
     "output_type": "stream",
     "text": [
      "[[1. 0. 0. 0.]\n",
      " [0. 1. 0. 0.]\n",
      " [0. 0. 1. 0.]\n",
      " [0. 0. 0. 1.]]\n"
     ]
    }
   ],
   "source": [
    "N = 4\n",
    "\n",
    "matriz = np.eye(N)\n",
    "\n",
    "print(matriz)"
   ]
  },
  {
   "cell_type": "markdown",
   "metadata": {},
   "source": [
    "### Operaciones matemáticas con arrays"
   ]
  },
  {
   "cell_type": "code",
   "execution_count": 63,
   "metadata": {},
   "outputs": [
    {
     "name": "stdout",
     "output_type": "stream",
     "text": [
      "vector_a + vector_b = [ 7  9 11 13 15]\n",
      "vector_a - vector_b = [-5 -5 -5 -5 -5]\n",
      "vector_a * vector_b = [ 6 14 24 36 50]\n",
      "vector_b / vector_a = [6.         3.5        2.66666667 2.25       2.        ]\n",
      "vector_b % vector_a = [0 1 2 1 0]\n",
      "vector_a ** vector_b = [      1     128    6561  262144 9765625]\n"
     ]
    }
   ],
   "source": [
    "# Operación elemento a elemento:\n",
    "vector_a = np.array([1,2,3,4,5])\n",
    "vector_b = np.array([6,7,8,9,10])\n",
    "\n",
    "print(f'vector_a + vector_b = {vector_a + vector_b}')\n",
    "print(f'vector_a - vector_b = {vector_a - vector_b}')\n",
    "print(f'vector_a * vector_b = {vector_a * vector_b}')\n",
    "print(f'vector_b / vector_a = {vector_b / vector_a}')\n",
    "print(f'vector_b % vector_a = {vector_b % vector_a}')\n",
    "print(f'vector_a ** vector_b = {vector_a ** vector_b}')"
   ]
  },
  {
   "cell_type": "code",
   "execution_count": 64,
   "metadata": {},
   "outputs": [
    {
     "name": "stdout",
     "output_type": "stream",
     "text": [
      "vector_a + 5 = [ 6  7  8  9 10]\n",
      "vector_a - 5 = [-4 -3 -2 -1  0]\n",
      "vector_a * 5 = [ 5 10 15 20 25]\n",
      "vector_a / 5 = [0.2 0.4 0.6 0.8 1. ]\n",
      "vector_a % 5 = [1 2 3 4 0]\n",
      "vector_a ** 2 = [ 1  4  9 16 25]\n"
     ]
    }
   ],
   "source": [
    "# Operación array-escalar:\n",
    "\n",
    "print(f'vector_a + 5 = {vector_a + 5}')\n",
    "print(f'vector_a - 5 = {vector_a - 5}')\n",
    "print(f'vector_a * 5 = {vector_a * 5}')\n",
    "print(f'vector_a / 5 = {vector_a / 5}')\n",
    "print(f'vector_a % 5 = {vector_a % 5}')\n",
    "print(f'vector_a ** 2 = {vector_a ** 2}')"
   ]
  },
  {
   "cell_type": "code",
   "execution_count": 65,
   "metadata": {},
   "outputs": [
    {
     "name": "stdout",
     "output_type": "stream",
     "text": [
      "[[1 2 3]\n",
      " [1 2 3]\n",
      " [1 2 3]]\n",
      "[[5 6 7]\n",
      " [5 6 7]\n",
      " [5 6 7]]\n",
      "matriz_a + matriz_b = \n",
      "[[ 6  8 10]\n",
      " [ 6  8 10]\n",
      " [ 6  8 10]]\n",
      "matriz_a - matriz_b = \n",
      "[[-4 -4 -4]\n",
      " [-4 -4 -4]\n",
      " [-4 -4 -4]]\n",
      "matriz_a * matriz_b = \n",
      "[[ 5 12 21]\n",
      " [ 5 12 21]\n",
      " [ 5 12 21]]\n",
      "matriz_b / matriz_a = \n",
      "[[5.         3.         2.33333333]\n",
      " [5.         3.         2.33333333]\n",
      " [5.         3.         2.33333333]]\n",
      "matriz_b % matriz_a = \n",
      "[[0 0 1]\n",
      " [0 0 1]\n",
      " [0 0 1]]\n",
      "matriz_a ** matriz_b = \n",
      "[[   1   64 2187]\n",
      " [   1   64 2187]\n",
      " [   1   64 2187]]\n"
     ]
    }
   ],
   "source": [
    "matriz_a = np.array([\n",
    "    [1,2,3],\n",
    "    [1,2,3],\n",
    "    [1,2,3],\n",
    "])\n",
    "\n",
    "matriz_b = np.array([\n",
    "    [5,6,7],\n",
    "    [5,6,7],\n",
    "    [5,6,7],\n",
    "])\n",
    "\n",
    "print(matriz_a)\n",
    "print(matriz_b)\n",
    "print(f'matriz_a + matriz_b = \\n{matriz_a + matriz_b}')\n",
    "print(f'matriz_a - matriz_b = \\n{matriz_a - matriz_b}')\n",
    "print(f'matriz_a * matriz_b = \\n{matriz_a * matriz_b}')\n",
    "print(f'matriz_b / matriz_a = \\n{matriz_b / matriz_a}')\n",
    "print(f'matriz_b % matriz_a = \\n{matriz_b % matriz_a}')\n",
    "print(f'matriz_a ** matriz_b = \\n{matriz_a ** matriz_b}')"
   ]
  },
  {
   "cell_type": "code",
   "execution_count": 66,
   "metadata": {},
   "outputs": [
    {
     "name": "stdout",
     "output_type": "stream",
     "text": [
      "[[1 2 3]\n",
      " [1 2 3]\n",
      " [1 2 3]]\n",
      "matriz_a + 3 = \n",
      "[[4 5 6]\n",
      " [4 5 6]\n",
      " [4 5 6]]\n",
      "matriz_a - 3 = \n",
      "[[-2 -1  0]\n",
      " [-2 -1  0]\n",
      " [-2 -1  0]]\n",
      "matriz_a * 3 = \n",
      "[[3 6 9]\n",
      " [3 6 9]\n",
      " [3 6 9]]\n",
      "matriz_a / 3 = \n",
      "[[0.33333333 0.66666667 1.        ]\n",
      " [0.33333333 0.66666667 1.        ]\n",
      " [0.33333333 0.66666667 1.        ]]\n",
      "matriz_a % 3 = \n",
      "[[1 2 0]\n",
      " [1 2 0]\n",
      " [1 2 0]]\n",
      "matriz_a ** 2 = \n",
      "[[1 4 9]\n",
      " [1 4 9]\n",
      " [1 4 9]]\n"
     ]
    }
   ],
   "source": [
    "# Operación escalar-matriz\n",
    "print(matriz_a)\n",
    "print(f'matriz_a + 3 = \\n{matriz_a + 3}')\n",
    "print(f'matriz_a - 3 = \\n{matriz_a - 3}')\n",
    "print(f'matriz_a * 3 = \\n{matriz_a * 3}')\n",
    "print(f'matriz_a / 3 = \\n{matriz_a / 3}')\n",
    "print(f'matriz_a % 3 = \\n{matriz_a % 3}')\n",
    "print(f'matriz_a ** 2 = \\n{matriz_a ** 2}')"
   ]
  },
  {
   "cell_type": "markdown",
   "metadata": {},
   "source": [
    "### Función norm, dot, transpuesta (T), det, trace, inv y solve"
   ]
  },
  {
   "cell_type": "code",
   "execution_count": 6,
   "metadata": {},
   "outputs": [
    {
     "name": "stdout",
     "output_type": "stream",
     "text": [
      "La norma del vector norm(5i + 6j) = 7.810249675906654\n",
      "La norma del vector norm(5i + 6j) = 7.81\n"
     ]
    }
   ],
   "source": [
    "vector = np.array([5, 6])\n",
    "norma_vector = np.linalg.norm(vector)\n",
    "print(f'La norma del vector norm(5i + 6j) = {norma_vector}')\n",
    "print(f'La norma del vector norm(5i + 6j) = {np.around(norma_vector, decimals=2)}')"
   ]
  },
  {
   "cell_type": "code",
   "execution_count": 138,
   "metadata": {},
   "outputs": [
    {
     "name": "stdout",
     "output_type": "stream",
     "text": [
      "vector1 = [1 1 1 1 1]\n",
      "vector2 = [2 2 2 2 2]\n",
      "<vector1, vector2> = 10\n"
     ]
    }
   ],
   "source": [
    "vector1 = np.ones(5,dtype=int)\n",
    "vector2 = np.ones(5,int)*2\n",
    "print(f'vector1 = {vector1}')\n",
    "print(f'vector2 = {vector2}')\n",
    "\n",
    "producto_punto = vector1.dot(vector2)\n",
    "print(f'<vector1, vector2> = {producto_punto}')"
   ]
  },
  {
   "cell_type": "code",
   "execution_count": 115,
   "metadata": {},
   "outputs": [
    {
     "name": "stdout",
     "output_type": "stream",
     "text": [
      "matriz1 = \n",
      "[[1 1 1 1]\n",
      " [1 1 1 1]\n",
      " [1 1 1 1]\n",
      " [1 1 1 1]]\n",
      "matriz2 = \n",
      "[[2 2 2 2]\n",
      " [2 2 2 2]\n",
      " [2 2 2 2]\n",
      " [2 2 2 2]]\n",
      "matriz1 * matriz2 = \n",
      "[[8 8 8 8]\n",
      " [8 8 8 8]\n",
      " [8 8 8 8]\n",
      " [8 8 8 8]]\n"
     ]
    }
   ],
   "source": [
    "matriz1 = np.ones((4,4),int)\n",
    "matriz2 = np.ones((4,4),int)*2\n",
    "\n",
    "print(f'matriz1 = \\n{matriz1}')\n",
    "print(f'matriz2 = \\n{matriz2}')\n",
    "\n",
    "producto_matricial = np.dot(matriz1,matriz2)\n",
    "print(f'matriz1 * matriz2 = \\n{producto_matricial}')"
   ]
  },
  {
   "cell_type": "code",
   "execution_count": 75,
   "metadata": {},
   "outputs": [
    {
     "name": "stdout",
     "output_type": "stream",
     "text": [
      "matriz = \n",
      "[[ 1  2  3  4]\n",
      " [ 5  6  7  8]\n",
      " [ 9 10 11 12]\n",
      " [13 14 15 16]]\n",
      "matriz^T = \n",
      "[[ 1  5  9 13]\n",
      " [ 2  6 10 14]\n",
      " [ 3  7 11 15]\n",
      " [ 4  8 12 16]]\n"
     ]
    }
   ],
   "source": [
    "matriz = np.array([\n",
    "    [1, 2, 3, 4],\n",
    "    [5, 6, 7, 8],\n",
    "    [9, 10, 11, 12],\n",
    "    [13, 14, 15, 16]\n",
    "])\n",
    "\n",
    "print(f'matriz = \\n{matriz}')\n",
    "\n",
    "matriz_transpuesta = matriz.T\n",
    "print(f'matriz^T = \\n{matriz_transpuesta}')\n",
    "\n"
   ]
  },
  {
   "cell_type": "code",
   "execution_count": 134,
   "metadata": {},
   "outputs": [
    {
     "name": "stdout",
     "output_type": "stream",
     "text": [
      "matriz = \n",
      "[[ 1  2  3  4]\n",
      " [ 5  6  7  8]\n",
      " [ 9 10 11 12]\n",
      " [13 14 15 16]]\n",
      "traza de matriz = 34\n"
     ]
    }
   ],
   "source": [
    "print(f'matriz = \\n{matriz}')\n",
    "\n",
    "traza_de_una_matriz = matriz.trace()\n",
    "\n",
    "print(f'traza de matriz = {traza_de_una_matriz}')"
   ]
  },
  {
   "cell_type": "code",
   "execution_count": 135,
   "metadata": {},
   "outputs": [
    {
     "name": "stdout",
     "output_type": "stream",
     "text": [
      "matriz = \n",
      "[[ 1  2  3  4]\n",
      " [ 5  6  7  8]\n",
      " [ 9 10 11 12]\n",
      " [13 14 15 16]]\n",
      "determinante de matriz = -1.820448242817726e-31\n"
     ]
    }
   ],
   "source": [
    "print(f'matriz = \\n{matriz}')\n",
    "\n",
    "determinante = np.linalg.det(matriz)\n",
    "\n",
    "print(f'determinante de matriz = {determinante}')"
   ]
  },
  {
   "cell_type": "code",
   "execution_count": 76,
   "metadata": {},
   "outputs": [
    {
     "name": "stdout",
     "output_type": "stream",
     "text": [
      "matriz = \n",
      "[[ 1  2  3  4]\n",
      " [ 5  6  7  8]\n",
      " [ 9 10 11 12]\n",
      " [13 14 15 16]]\n",
      "inversa de la matriz = \n",
      "[[ 1.50119988e+15 -3.75299969e+14 -3.75299969e+15  2.62709978e+15]\n",
      " [-1.95155984e+16  1.95155984e+16  1.95155984e+16 -1.95155984e+16]\n",
      " [ 3.45275971e+16 -3.79052969e+16 -2.77721977e+16  3.11498974e+16]\n",
      " [-1.65131986e+16  1.87649984e+16  1.20095990e+16 -1.42613988e+16]]\n"
     ]
    }
   ],
   "source": [
    "print(f'matriz = \\n{matriz}')\n",
    "\n",
    "inversa = np.linalg.inv(matriz)\n",
    "\n",
    "print(f'inversa de la matriz = \\n{inversa}')"
   ]
  },
  {
   "cell_type": "code",
   "execution_count": 137,
   "metadata": {},
   "outputs": [
    {
     "name": "stdout",
     "output_type": "stream",
     "text": [
      "La solucion del sistema es: [ -0.41666667 -17.33333333  19.91666667  -1.91666667]\n"
     ]
    }
   ],
   "source": [
    "vector_b = np.array([17, 18, 19, 20])\n",
    "\n",
    "solucion = np.linalg.solve(matriz, vector_b)\n",
    "\n",
    "print(f'La solucion del sistema es: {solucion}')\n"
   ]
  },
  {
   "cell_type": "code",
   "execution_count": null,
   "metadata": {},
   "outputs": [],
   "source": []
  }
 ],
 "metadata": {
  "kernelspec": {
   "display_name": "Python 3 (ipykernel)",
   "language": "python",
   "name": "python3"
  },
  "language_info": {
   "codemirror_mode": {
    "name": "ipython",
    "version": 3
   },
   "file_extension": ".py",
   "mimetype": "text/x-python",
   "name": "python",
   "nbconvert_exporter": "python",
   "pygments_lexer": "ipython3",
   "version": "3.11.9"
  }
 },
 "nbformat": 4,
 "nbformat_minor": 4
}
